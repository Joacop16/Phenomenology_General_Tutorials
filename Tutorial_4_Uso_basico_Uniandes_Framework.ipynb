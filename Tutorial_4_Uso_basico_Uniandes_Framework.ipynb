{
 "cells": [
  {
   "cell_type": "markdown",
   "id": "b7a0aea4-8366-495e-9d15-f9fee6ffc33d",
   "metadata": {},
   "source": [
    "**1.** Importar framework de trabajo siguiendo los pasos del tutorial 3."
   ]
  },
  {
   "cell_type": "code",
   "execution_count": 1,
   "id": "a3a0fbba-7abf-43f1-939b-c91dd0b619cd",
   "metadata": {},
   "outputs": [
    {
     "name": "stdout",
     "output_type": "stream",
     "text": [
      "WARNING: 'git lfs clone' is deprecated and will not be updated\n",
      "          with new flags from 'git clone'\n",
      "\n",
      "'git clone' has been updated in upstream Git to have comparable\n",
      "speeds to 'git lfs clone'.\n",
      "Cloning into 'Uniandes_Framework'...\n",
      "remote: Enumerating objects: 115, done.\u001b[K\n",
      "remote: Counting objects: 100% (115/115), done.\u001b[K\n",
      "remote: Compressing objects: 100% (91/91), done.\u001b[K\n",
      "remote: Total 115 (delta 27), reused 102 (delta 22), pack-reused 0\u001b[K\n",
      "Receiving objects: 100% (115/115), 422.20 KiB | 1.52 MiB/s, done.\n",
      "Resolving deltas: 100% (27/27), done.\n",
      "Downloading LFS objects: 100% (31/31), 376 MB | 61 MB/s                         \r"
     ]
    }
   ],
   "source": [
    "!rm -rf Uniandes_Framework\n",
    "!git lfs clone https://github.com/Phenomenology-group-uniandes/Uniandes_Framework.git"
   ]
  },
  {
   "cell_type": "code",
   "execution_count": 2,
   "id": "c0d261d4-c2e7-49cf-9c48-6753ed4c6aff",
   "metadata": {},
   "outputs": [],
   "source": [
    "import os, sys\n",
    "sys.path.append(f'{os.getcwd()}/Uniandes_Framework')"
   ]
  },
  {
   "cell_type": "code",
   "execution_count": 3,
   "id": "9525235f-8fce-4417-9151-681a7875f785",
   "metadata": {},
   "outputs": [
    {
     "name": "stdout",
     "output_type": "stream",
     "text": [
      "Welcome to JupyROOT 6.22/06\n"
     ]
    }
   ],
   "source": [
    "from delphes_reader import DelphesLoader #Permite acceder a los archivos .root guardados en el servidor\n",
    "from delphes_reader import clasificator #Contiene funciones como get_muons para extraer partículas de un evento de un archivo de delphes.\n",
    "from delphes_reader import root_analysis #Contiene funciones para extraer variables cinematicas y crear histogramas.\n",
    "from delphes_reader import Quiet #Permite evitar que se impriman muchas excepciones que normalmente aparecen al leer archivos de delphes."
   ]
  },
  {
   "cell_type": "markdown",
   "id": "343bd594-374c-47df-b379-dc09b4b8174d",
   "metadata": {},
   "source": [
    "**2.** Usemos DelphesLoader para obtener la ruta de algún archivo .root alojado en el servidor.\n",
    "\n",
    "Para esto simplemente hay que usar DelphesLoader('ww').Forest o DelphesLoader('z_jets').Forest\n",
    "\n",
    "Por ejemplo:"
   ]
  },
  {
   "cell_type": "code",
   "execution_count": 4,
   "id": "364bafe4-0abb-49ee-8d1e-29a170fd3a5e",
   "metadata": {
    "tags": []
   },
   "outputs": [
    {
     "name": "stdout",
     "output_type": "stream",
     "text": [
      "z_jets imported with 500 trees!\n",
      "/Madgraph_Simulations/SM_Backgrounds/z_jets/\n"
     ]
    }
   ],
   "source": [
    "Rutas = DelphesLoader('z_jets').Forest"
   ]
  },
  {
   "cell_type": "markdown",
   "id": "343bc590-7a0c-4697-af5e-06288e61ba55",
   "metadata": {},
   "source": [
    "Imprimamos Rutas para ver que es"
   ]
  },
  {
   "cell_type": "code",
   "execution_count": 5,
   "id": "b584ad03-a0ad-4fc5-9a15-f8a640c19a56",
   "metadata": {
    "tags": []
   },
   "outputs": [
    {
     "data": {
      "text/plain": [
       "['/Madgraph_Simulations/SM_Backgrounds/z_jets/z+jets_1/Events/run_01/m_delphes_events.root',\n",
       " '/Madgraph_Simulations/SM_Backgrounds/z_jets/z+jets_2/Events/run_01/m_delphes_events.root',\n",
       " '/Madgraph_Simulations/SM_Backgrounds/z_jets/z+jets_3/Events/run_01/m_delphes_events.root',\n",
       " '/Madgraph_Simulations/SM_Backgrounds/z_jets/z+jets_4/Events/run_01/m_delphes_events.root',\n",
       " '/Madgraph_Simulations/SM_Backgrounds/z_jets/z+jets_5/Events/run_01/m_delphes_events.root',\n",
       " '/Madgraph_Simulations/SM_Backgrounds/z_jets/z+jets_6/Events/run_01/m_delphes_events.root',\n",
       " '/Madgraph_Simulations/SM_Backgrounds/z_jets/z+jets_7/Events/run_01/m_delphes_events.root',\n",
       " '/Madgraph_Simulations/SM_Backgrounds/z_jets/z+jets_8/Events/run_01/m_delphes_events.root',\n",
       " '/Madgraph_Simulations/SM_Backgrounds/z_jets/z+jets_9/Events/run_01/m_delphes_events.root',\n",
       " '/Madgraph_Simulations/SM_Backgrounds/z_jets/z+jets_10/Events/run_01/m_delphes_events.root',\n",
       " '/Madgraph_Simulations/SM_Backgrounds/z_jets/z+jets_11/Events/run_01/m_delphes_events.root',\n",
       " '/Madgraph_Simulations/SM_Backgrounds/z_jets/z+jets_12/Events/run_01/m_delphes_events.root',\n",
       " '/Madgraph_Simulations/SM_Backgrounds/z_jets/z+jets_13/Events/run_01/m_delphes_events.root',\n",
       " '/Madgraph_Simulations/SM_Backgrounds/z_jets/z+jets_14/Events/run_01/m_delphes_events.root',\n",
       " '/Madgraph_Simulations/SM_Backgrounds/z_jets/z+jets_15/Events/run_01/m_delphes_events.root',\n",
       " '/Madgraph_Simulations/SM_Backgrounds/z_jets/z+jets_16/Events/run_01/m_delphes_events.root',\n",
       " '/Madgraph_Simulations/SM_Backgrounds/z_jets/z+jets_17/Events/run_01/m_delphes_events.root',\n",
       " '/Madgraph_Simulations/SM_Backgrounds/z_jets/z+jets_18/Events/run_01/m_delphes_events.root',\n",
       " '/Madgraph_Simulations/SM_Backgrounds/z_jets/z+jets_19/Events/run_01/m_delphes_events.root',\n",
       " '/Madgraph_Simulations/SM_Backgrounds/z_jets/z+jets_20/Events/run_01/m_delphes_events.root',\n",
       " '/Madgraph_Simulations/SM_Backgrounds/z_jets/z+jets_21/Events/run_01/m_delphes_events.root',\n",
       " '/Madgraph_Simulations/SM_Backgrounds/z_jets/z+jets_22/Events/run_01/m_delphes_events.root',\n",
       " '/Madgraph_Simulations/SM_Backgrounds/z_jets/z+jets_23/Events/run_01/m_delphes_events.root',\n",
       " '/Madgraph_Simulations/SM_Backgrounds/z_jets/z+jets_24/Events/run_01/m_delphes_events.root',\n",
       " '/Madgraph_Simulations/SM_Backgrounds/z_jets/z+jets_25/Events/run_01/m_delphes_events.root',\n",
       " '/Madgraph_Simulations/SM_Backgrounds/z_jets/z+jets_26/Events/run_01/m_delphes_events.root',\n",
       " '/Madgraph_Simulations/SM_Backgrounds/z_jets/z+jets_27/Events/run_01/m_delphes_events.root',\n",
       " '/Madgraph_Simulations/SM_Backgrounds/z_jets/z+jets_28/Events/run_01/m_delphes_events.root',\n",
       " '/Madgraph_Simulations/SM_Backgrounds/z_jets/z+jets_29/Events/run_01/m_delphes_events.root',\n",
       " '/Madgraph_Simulations/SM_Backgrounds/z_jets/z+jets_30/Events/run_01/m_delphes_events.root',\n",
       " '/Madgraph_Simulations/SM_Backgrounds/z_jets/z+jets_31/Events/run_01/m_delphes_events.root',\n",
       " '/Madgraph_Simulations/SM_Backgrounds/z_jets/z+jets_32/Events/run_01/m_delphes_events.root',\n",
       " '/Madgraph_Simulations/SM_Backgrounds/z_jets/z+jets_33/Events/run_01/m_delphes_events.root',\n",
       " '/Madgraph_Simulations/SM_Backgrounds/z_jets/z+jets_34/Events/run_01/m_delphes_events.root',\n",
       " '/Madgraph_Simulations/SM_Backgrounds/z_jets/z+jets_35/Events/run_01/m_delphes_events.root',\n",
       " '/Madgraph_Simulations/SM_Backgrounds/z_jets/z+jets_36/Events/run_01/m_delphes_events.root',\n",
       " '/Madgraph_Simulations/SM_Backgrounds/z_jets/z+jets_37/Events/run_01/m_delphes_events.root',\n",
       " '/Madgraph_Simulations/SM_Backgrounds/z_jets/z+jets_38/Events/run_01/m_delphes_events.root',\n",
       " '/Madgraph_Simulations/SM_Backgrounds/z_jets/z+jets_39/Events/run_01/m_delphes_events.root',\n",
       " '/Madgraph_Simulations/SM_Backgrounds/z_jets/z+jets_40/Events/run_01/m_delphes_events.root',\n",
       " '/Madgraph_Simulations/SM_Backgrounds/z_jets/z+jets_41/Events/run_01/m_delphes_events.root',\n",
       " '/Madgraph_Simulations/SM_Backgrounds/z_jets/z+jets_42/Events/run_01/m_delphes_events.root',\n",
       " '/Madgraph_Simulations/SM_Backgrounds/z_jets/z+jets_43/Events/run_01/m_delphes_events.root',\n",
       " '/Madgraph_Simulations/SM_Backgrounds/z_jets/z+jets_44/Events/run_01/m_delphes_events.root',\n",
       " '/Madgraph_Simulations/SM_Backgrounds/z_jets/z+jets_45/Events/run_01/m_delphes_events.root',\n",
       " '/Madgraph_Simulations/SM_Backgrounds/z_jets/z+jets_46/Events/run_01/m_delphes_events.root',\n",
       " '/Madgraph_Simulations/SM_Backgrounds/z_jets/z+jets_47/Events/run_01/m_delphes_events.root',\n",
       " '/Madgraph_Simulations/SM_Backgrounds/z_jets/z+jets_48/Events/run_01/m_delphes_events.root',\n",
       " '/Madgraph_Simulations/SM_Backgrounds/z_jets/z+jets_49/Events/run_01/m_delphes_events.root',\n",
       " '/Madgraph_Simulations/SM_Backgrounds/z_jets/z+jets_50/Events/run_01/m_delphes_events.root',\n",
       " '/Madgraph_Simulations/SM_Backgrounds/z_jets/z+jets_51/Events/run_01/m_delphes_events.root',\n",
       " '/Madgraph_Simulations/SM_Backgrounds/z_jets/z+jets_52/Events/run_01/m_delphes_events.root',\n",
       " '/Madgraph_Simulations/SM_Backgrounds/z_jets/z+jets_53/Events/run_01/m_delphes_events.root',\n",
       " '/Madgraph_Simulations/SM_Backgrounds/z_jets/z+jets_54/Events/run_01/m_delphes_events.root',\n",
       " '/Madgraph_Simulations/SM_Backgrounds/z_jets/z+jets_55/Events/run_01/m_delphes_events.root',\n",
       " '/Madgraph_Simulations/SM_Backgrounds/z_jets/z+jets_56/Events/run_01/m_delphes_events.root',\n",
       " '/Madgraph_Simulations/SM_Backgrounds/z_jets/z+jets_57/Events/run_01/m_delphes_events.root',\n",
       " '/Madgraph_Simulations/SM_Backgrounds/z_jets/z+jets_58/Events/run_01/m_delphes_events.root',\n",
       " '/Madgraph_Simulations/SM_Backgrounds/z_jets/z+jets_59/Events/run_01/m_delphes_events.root',\n",
       " '/Madgraph_Simulations/SM_Backgrounds/z_jets/z+jets_60/Events/run_01/m_delphes_events.root',\n",
       " '/Madgraph_Simulations/SM_Backgrounds/z_jets/z+jets_61/Events/run_01/m_delphes_events.root',\n",
       " '/Madgraph_Simulations/SM_Backgrounds/z_jets/z+jets_62/Events/run_01/m_delphes_events.root',\n",
       " '/Madgraph_Simulations/SM_Backgrounds/z_jets/z+jets_63/Events/run_01/m_delphes_events.root',\n",
       " '/Madgraph_Simulations/SM_Backgrounds/z_jets/z+jets_64/Events/run_01/m_delphes_events.root',\n",
       " '/Madgraph_Simulations/SM_Backgrounds/z_jets/z+jets_65/Events/run_01/m_delphes_events.root',\n",
       " '/Madgraph_Simulations/SM_Backgrounds/z_jets/z+jets_66/Events/run_01/m_delphes_events.root',\n",
       " '/Madgraph_Simulations/SM_Backgrounds/z_jets/z+jets_67/Events/run_01/m_delphes_events.root',\n",
       " '/Madgraph_Simulations/SM_Backgrounds/z_jets/z+jets_68/Events/run_01/m_delphes_events.root',\n",
       " '/Madgraph_Simulations/SM_Backgrounds/z_jets/z+jets_69/Events/run_01/m_delphes_events.root',\n",
       " '/Madgraph_Simulations/SM_Backgrounds/z_jets/z+jets_70/Events/run_01/m_delphes_events.root',\n",
       " '/Madgraph_Simulations/SM_Backgrounds/z_jets/z+jets_71/Events/run_01/m_delphes_events.root',\n",
       " '/Madgraph_Simulations/SM_Backgrounds/z_jets/z+jets_72/Events/run_01/m_delphes_events.root',\n",
       " '/Madgraph_Simulations/SM_Backgrounds/z_jets/z+jets_73/Events/run_01/m_delphes_events.root',\n",
       " '/Madgraph_Simulations/SM_Backgrounds/z_jets/z+jets_74/Events/run_01/m_delphes_events.root',\n",
       " '/Madgraph_Simulations/SM_Backgrounds/z_jets/z+jets_75/Events/run_01/m_delphes_events.root',\n",
       " '/Madgraph_Simulations/SM_Backgrounds/z_jets/z+jets_76/Events/run_01/m_delphes_events.root',\n",
       " '/Madgraph_Simulations/SM_Backgrounds/z_jets/z+jets_77/Events/run_01/m_delphes_events.root',\n",
       " '/Madgraph_Simulations/SM_Backgrounds/z_jets/z+jets_78/Events/run_01/m_delphes_events.root',\n",
       " '/Madgraph_Simulations/SM_Backgrounds/z_jets/z+jets_79/Events/run_01/m_delphes_events.root',\n",
       " '/Madgraph_Simulations/SM_Backgrounds/z_jets/z+jets_80/Events/run_01/m_delphes_events.root',\n",
       " '/Madgraph_Simulations/SM_Backgrounds/z_jets/z+jets_81/Events/run_01/m_delphes_events.root',\n",
       " '/Madgraph_Simulations/SM_Backgrounds/z_jets/z+jets_82/Events/run_01/m_delphes_events.root',\n",
       " '/Madgraph_Simulations/SM_Backgrounds/z_jets/z+jets_83/Events/run_01/m_delphes_events.root',\n",
       " '/Madgraph_Simulations/SM_Backgrounds/z_jets/z+jets_84/Events/run_01/m_delphes_events.root',\n",
       " '/Madgraph_Simulations/SM_Backgrounds/z_jets/z+jets_85/Events/run_01/m_delphes_events.root',\n",
       " '/Madgraph_Simulations/SM_Backgrounds/z_jets/z+jets_86/Events/run_01/m_delphes_events.root',\n",
       " '/Madgraph_Simulations/SM_Backgrounds/z_jets/z+jets_87/Events/run_01/m_delphes_events.root',\n",
       " '/Madgraph_Simulations/SM_Backgrounds/z_jets/z+jets_88/Events/run_01/m_delphes_events.root',\n",
       " '/Madgraph_Simulations/SM_Backgrounds/z_jets/z+jets_89/Events/run_01/m_delphes_events.root',\n",
       " '/Madgraph_Simulations/SM_Backgrounds/z_jets/z+jets_90/Events/run_01/m_delphes_events.root',\n",
       " '/Madgraph_Simulations/SM_Backgrounds/z_jets/z+jets_91/Events/run_01/m_delphes_events.root',\n",
       " '/Madgraph_Simulations/SM_Backgrounds/z_jets/z+jets_92/Events/run_01/m_delphes_events.root',\n",
       " '/Madgraph_Simulations/SM_Backgrounds/z_jets/z+jets_93/Events/run_01/m_delphes_events.root',\n",
       " '/Madgraph_Simulations/SM_Backgrounds/z_jets/z+jets_94/Events/run_01/m_delphes_events.root',\n",
       " '/Madgraph_Simulations/SM_Backgrounds/z_jets/z+jets_95/Events/run_01/m_delphes_events.root',\n",
       " '/Madgraph_Simulations/SM_Backgrounds/z_jets/z+jets_96/Events/run_01/m_delphes_events.root',\n",
       " '/Madgraph_Simulations/SM_Backgrounds/z_jets/z+jets_97/Events/run_01/m_delphes_events.root',\n",
       " '/Madgraph_Simulations/SM_Backgrounds/z_jets/z+jets_98/Events/run_01/m_delphes_events.root',\n",
       " '/Madgraph_Simulations/SM_Backgrounds/z_jets/z+jets_99/Events/run_01/m_delphes_events.root',\n",
       " '/Madgraph_Simulations/SM_Backgrounds/z_jets/z+jets_100/Events/run_01/m_delphes_events.root',\n",
       " '/Madgraph_Simulations/SM_Backgrounds/z_jets/z+jets_101/Events/run_01/m_delphes_events.root',\n",
       " '/Madgraph_Simulations/SM_Backgrounds/z_jets/z+jets_102/Events/run_01/m_delphes_events.root',\n",
       " '/Madgraph_Simulations/SM_Backgrounds/z_jets/z+jets_103/Events/run_01/m_delphes_events.root',\n",
       " '/Madgraph_Simulations/SM_Backgrounds/z_jets/z+jets_104/Events/run_01/m_delphes_events.root',\n",
       " '/Madgraph_Simulations/SM_Backgrounds/z_jets/z+jets_105/Events/run_01/m_delphes_events.root',\n",
       " '/Madgraph_Simulations/SM_Backgrounds/z_jets/z+jets_106/Events/run_01/m_delphes_events.root',\n",
       " '/Madgraph_Simulations/SM_Backgrounds/z_jets/z+jets_107/Events/run_01/m_delphes_events.root',\n",
       " '/Madgraph_Simulations/SM_Backgrounds/z_jets/z+jets_108/Events/run_01/m_delphes_events.root',\n",
       " '/Madgraph_Simulations/SM_Backgrounds/z_jets/z+jets_109/Events/run_01/m_delphes_events.root',\n",
       " '/Madgraph_Simulations/SM_Backgrounds/z_jets/z+jets_110/Events/run_01/m_delphes_events.root',\n",
       " '/Madgraph_Simulations/SM_Backgrounds/z_jets/z+jets_111/Events/run_01/m_delphes_events.root',\n",
       " '/Madgraph_Simulations/SM_Backgrounds/z_jets/z+jets_112/Events/run_01/m_delphes_events.root',\n",
       " '/Madgraph_Simulations/SM_Backgrounds/z_jets/z+jets_113/Events/run_01/m_delphes_events.root',\n",
       " '/Madgraph_Simulations/SM_Backgrounds/z_jets/z+jets_114/Events/run_01/m_delphes_events.root',\n",
       " '/Madgraph_Simulations/SM_Backgrounds/z_jets/z+jets_115/Events/run_01/m_delphes_events.root',\n",
       " '/Madgraph_Simulations/SM_Backgrounds/z_jets/z+jets_116/Events/run_01/m_delphes_events.root',\n",
       " '/Madgraph_Simulations/SM_Backgrounds/z_jets/z+jets_117/Events/run_01/m_delphes_events.root',\n",
       " '/Madgraph_Simulations/SM_Backgrounds/z_jets/z+jets_118/Events/run_01/m_delphes_events.root',\n",
       " '/Madgraph_Simulations/SM_Backgrounds/z_jets/z+jets_119/Events/run_01/m_delphes_events.root',\n",
       " '/Madgraph_Simulations/SM_Backgrounds/z_jets/z+jets_120/Events/run_01/m_delphes_events.root',\n",
       " '/Madgraph_Simulations/SM_Backgrounds/z_jets/z+jets_121/Events/run_01/m_delphes_events.root',\n",
       " '/Madgraph_Simulations/SM_Backgrounds/z_jets/z+jets_122/Events/run_01/m_delphes_events.root',\n",
       " '/Madgraph_Simulations/SM_Backgrounds/z_jets/z+jets_123/Events/run_01/m_delphes_events.root',\n",
       " '/Madgraph_Simulations/SM_Backgrounds/z_jets/z+jets_124/Events/run_01/m_delphes_events.root',\n",
       " '/Madgraph_Simulations/SM_Backgrounds/z_jets/z+jets_125/Events/run_01/m_delphes_events.root',\n",
       " '/Madgraph_Simulations/SM_Backgrounds/z_jets/z+jets_126/Events/run_01/m_delphes_events.root',\n",
       " '/Madgraph_Simulations/SM_Backgrounds/z_jets/z+jets_127/Events/run_01/m_delphes_events.root',\n",
       " '/Madgraph_Simulations/SM_Backgrounds/z_jets/z+jets_128/Events/run_01/m_delphes_events.root',\n",
       " '/Madgraph_Simulations/SM_Backgrounds/z_jets/z+jets_129/Events/run_01/m_delphes_events.root',\n",
       " '/Madgraph_Simulations/SM_Backgrounds/z_jets/z+jets_130/Events/run_01/m_delphes_events.root',\n",
       " '/Madgraph_Simulations/SM_Backgrounds/z_jets/z+jets_131/Events/run_01/m_delphes_events.root',\n",
       " '/Madgraph_Simulations/SM_Backgrounds/z_jets/z+jets_132/Events/run_01/m_delphes_events.root',\n",
       " '/Madgraph_Simulations/SM_Backgrounds/z_jets/z+jets_133/Events/run_01/m_delphes_events.root',\n",
       " '/Madgraph_Simulations/SM_Backgrounds/z_jets/z+jets_134/Events/run_01/m_delphes_events.root',\n",
       " '/Madgraph_Simulations/SM_Backgrounds/z_jets/z+jets_135/Events/run_01/m_delphes_events.root',\n",
       " '/Madgraph_Simulations/SM_Backgrounds/z_jets/z+jets_136/Events/run_01/m_delphes_events.root',\n",
       " '/Madgraph_Simulations/SM_Backgrounds/z_jets/z+jets_137/Events/run_01/m_delphes_events.root',\n",
       " '/Madgraph_Simulations/SM_Backgrounds/z_jets/z+jets_138/Events/run_01/m_delphes_events.root',\n",
       " '/Madgraph_Simulations/SM_Backgrounds/z_jets/z+jets_139/Events/run_01/m_delphes_events.root',\n",
       " '/Madgraph_Simulations/SM_Backgrounds/z_jets/z+jets_140/Events/run_01/m_delphes_events.root',\n",
       " '/Madgraph_Simulations/SM_Backgrounds/z_jets/z+jets_141/Events/run_01/m_delphes_events.root',\n",
       " '/Madgraph_Simulations/SM_Backgrounds/z_jets/z+jets_142/Events/run_01/m_delphes_events.root',\n",
       " '/Madgraph_Simulations/SM_Backgrounds/z_jets/z+jets_143/Events/run_01/m_delphes_events.root',\n",
       " '/Madgraph_Simulations/SM_Backgrounds/z_jets/z+jets_144/Events/run_01/m_delphes_events.root',\n",
       " '/Madgraph_Simulations/SM_Backgrounds/z_jets/z+jets_145/Events/run_01/m_delphes_events.root',\n",
       " '/Madgraph_Simulations/SM_Backgrounds/z_jets/z+jets_146/Events/run_01/m_delphes_events.root',\n",
       " '/Madgraph_Simulations/SM_Backgrounds/z_jets/z+jets_147/Events/run_01/m_delphes_events.root',\n",
       " '/Madgraph_Simulations/SM_Backgrounds/z_jets/z+jets_148/Events/run_01/m_delphes_events.root',\n",
       " '/Madgraph_Simulations/SM_Backgrounds/z_jets/z+jets_149/Events/run_01/m_delphes_events.root',\n",
       " '/Madgraph_Simulations/SM_Backgrounds/z_jets/z+jets_150/Events/run_01/m_delphes_events.root',\n",
       " '/Madgraph_Simulations/SM_Backgrounds/z_jets/z+jets_151/Events/run_01/m_delphes_events.root',\n",
       " '/Madgraph_Simulations/SM_Backgrounds/z_jets/z+jets_152/Events/run_01/m_delphes_events.root',\n",
       " '/Madgraph_Simulations/SM_Backgrounds/z_jets/z+jets_153/Events/run_01/m_delphes_events.root',\n",
       " '/Madgraph_Simulations/SM_Backgrounds/z_jets/z+jets_154/Events/run_01/m_delphes_events.root',\n",
       " '/Madgraph_Simulations/SM_Backgrounds/z_jets/z+jets_155/Events/run_01/m_delphes_events.root',\n",
       " '/Madgraph_Simulations/SM_Backgrounds/z_jets/z+jets_156/Events/run_01/m_delphes_events.root',\n",
       " '/Madgraph_Simulations/SM_Backgrounds/z_jets/z+jets_157/Events/run_01/m_delphes_events.root',\n",
       " '/Madgraph_Simulations/SM_Backgrounds/z_jets/z+jets_158/Events/run_01/m_delphes_events.root',\n",
       " '/Madgraph_Simulations/SM_Backgrounds/z_jets/z+jets_159/Events/run_01/m_delphes_events.root',\n",
       " '/Madgraph_Simulations/SM_Backgrounds/z_jets/z+jets_160/Events/run_01/m_delphes_events.root',\n",
       " '/Madgraph_Simulations/SM_Backgrounds/z_jets/z+jets_161/Events/run_01/m_delphes_events.root',\n",
       " '/Madgraph_Simulations/SM_Backgrounds/z_jets/z+jets_162/Events/run_01/m_delphes_events.root',\n",
       " '/Madgraph_Simulations/SM_Backgrounds/z_jets/z+jets_163/Events/run_01/m_delphes_events.root',\n",
       " '/Madgraph_Simulations/SM_Backgrounds/z_jets/z+jets_164/Events/run_01/m_delphes_events.root',\n",
       " '/Madgraph_Simulations/SM_Backgrounds/z_jets/z+jets_165/Events/run_01/m_delphes_events.root',\n",
       " '/Madgraph_Simulations/SM_Backgrounds/z_jets/z+jets_166/Events/run_01/m_delphes_events.root',\n",
       " '/Madgraph_Simulations/SM_Backgrounds/z_jets/z+jets_167/Events/run_01/m_delphes_events.root',\n",
       " '/Madgraph_Simulations/SM_Backgrounds/z_jets/z+jets_168/Events/run_01/m_delphes_events.root',\n",
       " '/Madgraph_Simulations/SM_Backgrounds/z_jets/z+jets_169/Events/run_01/m_delphes_events.root',\n",
       " '/Madgraph_Simulations/SM_Backgrounds/z_jets/z+jets_170/Events/run_01/m_delphes_events.root',\n",
       " '/Madgraph_Simulations/SM_Backgrounds/z_jets/z+jets_171/Events/run_01/m_delphes_events.root',\n",
       " '/Madgraph_Simulations/SM_Backgrounds/z_jets/z+jets_172/Events/run_01/m_delphes_events.root',\n",
       " '/Madgraph_Simulations/SM_Backgrounds/z_jets/z+jets_173/Events/run_01/m_delphes_events.root',\n",
       " '/Madgraph_Simulations/SM_Backgrounds/z_jets/z+jets_174/Events/run_01/m_delphes_events.root',\n",
       " '/Madgraph_Simulations/SM_Backgrounds/z_jets/z+jets_175/Events/run_01/m_delphes_events.root',\n",
       " '/Madgraph_Simulations/SM_Backgrounds/z_jets/z+jets_176/Events/run_01/m_delphes_events.root',\n",
       " '/Madgraph_Simulations/SM_Backgrounds/z_jets/z+jets_177/Events/run_01/m_delphes_events.root',\n",
       " '/Madgraph_Simulations/SM_Backgrounds/z_jets/z+jets_178/Events/run_01/m_delphes_events.root',\n",
       " '/Madgraph_Simulations/SM_Backgrounds/z_jets/z+jets_179/Events/run_01/m_delphes_events.root',\n",
       " '/Madgraph_Simulations/SM_Backgrounds/z_jets/z+jets_180/Events/run_01/m_delphes_events.root',\n",
       " '/Madgraph_Simulations/SM_Backgrounds/z_jets/z+jets_181/Events/run_01/m_delphes_events.root',\n",
       " '/Madgraph_Simulations/SM_Backgrounds/z_jets/z+jets_182/Events/run_01/m_delphes_events.root',\n",
       " '/Madgraph_Simulations/SM_Backgrounds/z_jets/z+jets_183/Events/run_01/m_delphes_events.root',\n",
       " '/Madgraph_Simulations/SM_Backgrounds/z_jets/z+jets_184/Events/run_01/m_delphes_events.root',\n",
       " '/Madgraph_Simulations/SM_Backgrounds/z_jets/z+jets_185/Events/run_01/m_delphes_events.root',\n",
       " '/Madgraph_Simulations/SM_Backgrounds/z_jets/z+jets_186/Events/run_01/m_delphes_events.root',\n",
       " '/Madgraph_Simulations/SM_Backgrounds/z_jets/z+jets_187/Events/run_01/m_delphes_events.root',\n",
       " '/Madgraph_Simulations/SM_Backgrounds/z_jets/z+jets_188/Events/run_01/m_delphes_events.root',\n",
       " '/Madgraph_Simulations/SM_Backgrounds/z_jets/z+jets_189/Events/run_01/m_delphes_events.root',\n",
       " '/Madgraph_Simulations/SM_Backgrounds/z_jets/z+jets_190/Events/run_01/m_delphes_events.root',\n",
       " '/Madgraph_Simulations/SM_Backgrounds/z_jets/z+jets_191/Events/run_01/m_delphes_events.root',\n",
       " '/Madgraph_Simulations/SM_Backgrounds/z_jets/z+jets_192/Events/run_01/m_delphes_events.root',\n",
       " '/Madgraph_Simulations/SM_Backgrounds/z_jets/z+jets_193/Events/run_01/m_delphes_events.root',\n",
       " '/Madgraph_Simulations/SM_Backgrounds/z_jets/z+jets_194/Events/run_01/m_delphes_events.root',\n",
       " '/Madgraph_Simulations/SM_Backgrounds/z_jets/z+jets_195/Events/run_01/m_delphes_events.root',\n",
       " '/Madgraph_Simulations/SM_Backgrounds/z_jets/z+jets_196/Events/run_01/m_delphes_events.root',\n",
       " '/Madgraph_Simulations/SM_Backgrounds/z_jets/z+jets_197/Events/run_01/m_delphes_events.root',\n",
       " '/Madgraph_Simulations/SM_Backgrounds/z_jets/z+jets_198/Events/run_01/m_delphes_events.root',\n",
       " '/Madgraph_Simulations/SM_Backgrounds/z_jets/z+jets_199/Events/run_01/m_delphes_events.root',\n",
       " '/Madgraph_Simulations/SM_Backgrounds/z_jets/z+jets_200/Events/run_01/m_delphes_events.root',\n",
       " '/Madgraph_Simulations/SM_Backgrounds/z_jets/z+jets_201/Events/run_01/m_delphes_events.root',\n",
       " '/Madgraph_Simulations/SM_Backgrounds/z_jets/z+jets_202/Events/run_01/m_delphes_events.root',\n",
       " '/Madgraph_Simulations/SM_Backgrounds/z_jets/z+jets_203/Events/run_01/m_delphes_events.root',\n",
       " '/Madgraph_Simulations/SM_Backgrounds/z_jets/z+jets_204/Events/run_01/m_delphes_events.root',\n",
       " '/Madgraph_Simulations/SM_Backgrounds/z_jets/z+jets_205/Events/run_01/m_delphes_events.root',\n",
       " '/Madgraph_Simulations/SM_Backgrounds/z_jets/z+jets_206/Events/run_01/m_delphes_events.root',\n",
       " '/Madgraph_Simulations/SM_Backgrounds/z_jets/z+jets_207/Events/run_01/m_delphes_events.root',\n",
       " '/Madgraph_Simulations/SM_Backgrounds/z_jets/z+jets_208/Events/run_01/m_delphes_events.root',\n",
       " '/Madgraph_Simulations/SM_Backgrounds/z_jets/z+jets_209/Events/run_01/m_delphes_events.root',\n",
       " '/Madgraph_Simulations/SM_Backgrounds/z_jets/z+jets_210/Events/run_01/m_delphes_events.root',\n",
       " '/Madgraph_Simulations/SM_Backgrounds/z_jets/z+jets_211/Events/run_01/m_delphes_events.root',\n",
       " '/Madgraph_Simulations/SM_Backgrounds/z_jets/z+jets_212/Events/run_01/m_delphes_events.root',\n",
       " '/Madgraph_Simulations/SM_Backgrounds/z_jets/z+jets_213/Events/run_01/m_delphes_events.root',\n",
       " '/Madgraph_Simulations/SM_Backgrounds/z_jets/z+jets_214/Events/run_01/m_delphes_events.root',\n",
       " '/Madgraph_Simulations/SM_Backgrounds/z_jets/z+jets_215/Events/run_01/m_delphes_events.root',\n",
       " '/Madgraph_Simulations/SM_Backgrounds/z_jets/z+jets_216/Events/run_01/m_delphes_events.root',\n",
       " '/Madgraph_Simulations/SM_Backgrounds/z_jets/z+jets_217/Events/run_01/m_delphes_events.root',\n",
       " '/Madgraph_Simulations/SM_Backgrounds/z_jets/z+jets_218/Events/run_01/m_delphes_events.root',\n",
       " '/Madgraph_Simulations/SM_Backgrounds/z_jets/z+jets_219/Events/run_01/m_delphes_events.root',\n",
       " '/Madgraph_Simulations/SM_Backgrounds/z_jets/z+jets_220/Events/run_01/m_delphes_events.root',\n",
       " '/Madgraph_Simulations/SM_Backgrounds/z_jets/z+jets_221/Events/run_01/m_delphes_events.root',\n",
       " '/Madgraph_Simulations/SM_Backgrounds/z_jets/z+jets_222/Events/run_01/m_delphes_events.root',\n",
       " '/Madgraph_Simulations/SM_Backgrounds/z_jets/z+jets_223/Events/run_01/m_delphes_events.root',\n",
       " '/Madgraph_Simulations/SM_Backgrounds/z_jets/z+jets_224/Events/run_01/m_delphes_events.root',\n",
       " '/Madgraph_Simulations/SM_Backgrounds/z_jets/z+jets_225/Events/run_01/m_delphes_events.root',\n",
       " '/Madgraph_Simulations/SM_Backgrounds/z_jets/z+jets_226/Events/run_01/m_delphes_events.root',\n",
       " '/Madgraph_Simulations/SM_Backgrounds/z_jets/z+jets_227/Events/run_01/m_delphes_events.root',\n",
       " '/Madgraph_Simulations/SM_Backgrounds/z_jets/z+jets_228/Events/run_01/m_delphes_events.root',\n",
       " '/Madgraph_Simulations/SM_Backgrounds/z_jets/z+jets_229/Events/run_01/m_delphes_events.root',\n",
       " '/Madgraph_Simulations/SM_Backgrounds/z_jets/z+jets_230/Events/run_01/m_delphes_events.root',\n",
       " '/Madgraph_Simulations/SM_Backgrounds/z_jets/z+jets_231/Events/run_01/m_delphes_events.root',\n",
       " '/Madgraph_Simulations/SM_Backgrounds/z_jets/z+jets_232/Events/run_01/m_delphes_events.root',\n",
       " '/Madgraph_Simulations/SM_Backgrounds/z_jets/z+jets_233/Events/run_01/m_delphes_events.root',\n",
       " '/Madgraph_Simulations/SM_Backgrounds/z_jets/z+jets_234/Events/run_01/m_delphes_events.root',\n",
       " '/Madgraph_Simulations/SM_Backgrounds/z_jets/z+jets_235/Events/run_01/m_delphes_events.root',\n",
       " '/Madgraph_Simulations/SM_Backgrounds/z_jets/z+jets_236/Events/run_01/m_delphes_events.root',\n",
       " '/Madgraph_Simulations/SM_Backgrounds/z_jets/z+jets_237/Events/run_01/m_delphes_events.root',\n",
       " '/Madgraph_Simulations/SM_Backgrounds/z_jets/z+jets_238/Events/run_01/m_delphes_events.root',\n",
       " '/Madgraph_Simulations/SM_Backgrounds/z_jets/z+jets_239/Events/run_01/m_delphes_events.root',\n",
       " '/Madgraph_Simulations/SM_Backgrounds/z_jets/z+jets_240/Events/run_01/m_delphes_events.root',\n",
       " '/Madgraph_Simulations/SM_Backgrounds/z_jets/z+jets_241/Events/run_01/m_delphes_events.root',\n",
       " '/Madgraph_Simulations/SM_Backgrounds/z_jets/z+jets_242/Events/run_01/m_delphes_events.root',\n",
       " '/Madgraph_Simulations/SM_Backgrounds/z_jets/z+jets_243/Events/run_01/m_delphes_events.root',\n",
       " '/Madgraph_Simulations/SM_Backgrounds/z_jets/z+jets_244/Events/run_01/m_delphes_events.root',\n",
       " '/Madgraph_Simulations/SM_Backgrounds/z_jets/z+jets_245/Events/run_01/m_delphes_events.root',\n",
       " '/Madgraph_Simulations/SM_Backgrounds/z_jets/z+jets_246/Events/run_01/m_delphes_events.root',\n",
       " '/Madgraph_Simulations/SM_Backgrounds/z_jets/z+jets_247/Events/run_01/m_delphes_events.root',\n",
       " '/Madgraph_Simulations/SM_Backgrounds/z_jets/z+jets_248/Events/run_01/m_delphes_events.root',\n",
       " '/Madgraph_Simulations/SM_Backgrounds/z_jets/z+jets_249/Events/run_01/m_delphes_events.root',\n",
       " '/Madgraph_Simulations/SM_Backgrounds/z_jets/z+jets_250/Events/run_01/m_delphes_events.root',\n",
       " '/Madgraph_Simulations/SM_Backgrounds/z_jets/z+jets_251/Events/run_01/m_delphes_events.root',\n",
       " '/Madgraph_Simulations/SM_Backgrounds/z_jets/z+jets_252/Events/run_01/m_delphes_events.root',\n",
       " '/Madgraph_Simulations/SM_Backgrounds/z_jets/z+jets_253/Events/run_01/m_delphes_events.root',\n",
       " '/Madgraph_Simulations/SM_Backgrounds/z_jets/z+jets_254/Events/run_01/m_delphes_events.root',\n",
       " '/Madgraph_Simulations/SM_Backgrounds/z_jets/z+jets_255/Events/run_01/m_delphes_events.root',\n",
       " '/Madgraph_Simulations/SM_Backgrounds/z_jets/z+jets_256/Events/run_01/m_delphes_events.root',\n",
       " '/Madgraph_Simulations/SM_Backgrounds/z_jets/z+jets_257/Events/run_01/m_delphes_events.root',\n",
       " '/Madgraph_Simulations/SM_Backgrounds/z_jets/z+jets_258/Events/run_01/m_delphes_events.root',\n",
       " '/Madgraph_Simulations/SM_Backgrounds/z_jets/z+jets_259/Events/run_01/m_delphes_events.root',\n",
       " '/Madgraph_Simulations/SM_Backgrounds/z_jets/z+jets_260/Events/run_01/m_delphes_events.root',\n",
       " '/Madgraph_Simulations/SM_Backgrounds/z_jets/z+jets_261/Events/run_01/m_delphes_events.root',\n",
       " '/Madgraph_Simulations/SM_Backgrounds/z_jets/z+jets_262/Events/run_01/m_delphes_events.root',\n",
       " '/Madgraph_Simulations/SM_Backgrounds/z_jets/z+jets_263/Events/run_01/m_delphes_events.root',\n",
       " '/Madgraph_Simulations/SM_Backgrounds/z_jets/z+jets_264/Events/run_01/m_delphes_events.root',\n",
       " '/Madgraph_Simulations/SM_Backgrounds/z_jets/z+jets_265/Events/run_01/m_delphes_events.root',\n",
       " '/Madgraph_Simulations/SM_Backgrounds/z_jets/z+jets_266/Events/run_01/m_delphes_events.root',\n",
       " '/Madgraph_Simulations/SM_Backgrounds/z_jets/z+jets_267/Events/run_01/m_delphes_events.root',\n",
       " '/Madgraph_Simulations/SM_Backgrounds/z_jets/z+jets_268/Events/run_01/m_delphes_events.root',\n",
       " '/Madgraph_Simulations/SM_Backgrounds/z_jets/z+jets_269/Events/run_01/m_delphes_events.root',\n",
       " '/Madgraph_Simulations/SM_Backgrounds/z_jets/z+jets_270/Events/run_01/m_delphes_events.root',\n",
       " '/Madgraph_Simulations/SM_Backgrounds/z_jets/z+jets_271/Events/run_01/m_delphes_events.root',\n",
       " '/Madgraph_Simulations/SM_Backgrounds/z_jets/z+jets_272/Events/run_01/m_delphes_events.root',\n",
       " '/Madgraph_Simulations/SM_Backgrounds/z_jets/z+jets_273/Events/run_01/m_delphes_events.root',\n",
       " '/Madgraph_Simulations/SM_Backgrounds/z_jets/z+jets_274/Events/run_01/m_delphes_events.root',\n",
       " '/Madgraph_Simulations/SM_Backgrounds/z_jets/z+jets_275/Events/run_01/m_delphes_events.root',\n",
       " '/Madgraph_Simulations/SM_Backgrounds/z_jets/z+jets_276/Events/run_01/m_delphes_events.root',\n",
       " '/Madgraph_Simulations/SM_Backgrounds/z_jets/z+jets_277/Events/run_01/m_delphes_events.root',\n",
       " '/Madgraph_Simulations/SM_Backgrounds/z_jets/z+jets_278/Events/run_01/m_delphes_events.root',\n",
       " '/Madgraph_Simulations/SM_Backgrounds/z_jets/z+jets_279/Events/run_01/m_delphes_events.root',\n",
       " '/Madgraph_Simulations/SM_Backgrounds/z_jets/z+jets_280/Events/run_01/m_delphes_events.root',\n",
       " '/Madgraph_Simulations/SM_Backgrounds/z_jets/z+jets_281/Events/run_01/m_delphes_events.root',\n",
       " '/Madgraph_Simulations/SM_Backgrounds/z_jets/z+jets_282/Events/run_01/m_delphes_events.root',\n",
       " '/Madgraph_Simulations/SM_Backgrounds/z_jets/z+jets_283/Events/run_01/m_delphes_events.root',\n",
       " '/Madgraph_Simulations/SM_Backgrounds/z_jets/z+jets_284/Events/run_01/m_delphes_events.root',\n",
       " '/Madgraph_Simulations/SM_Backgrounds/z_jets/z+jets_285/Events/run_01/m_delphes_events.root',\n",
       " '/Madgraph_Simulations/SM_Backgrounds/z_jets/z+jets_286/Events/run_01/m_delphes_events.root',\n",
       " '/Madgraph_Simulations/SM_Backgrounds/z_jets/z+jets_287/Events/run_01/m_delphes_events.root',\n",
       " '/Madgraph_Simulations/SM_Backgrounds/z_jets/z+jets_288/Events/run_01/m_delphes_events.root',\n",
       " '/Madgraph_Simulations/SM_Backgrounds/z_jets/z+jets_289/Events/run_01/m_delphes_events.root',\n",
       " '/Madgraph_Simulations/SM_Backgrounds/z_jets/z+jets_290/Events/run_01/m_delphes_events.root',\n",
       " '/Madgraph_Simulations/SM_Backgrounds/z_jets/z+jets_291/Events/run_01/m_delphes_events.root',\n",
       " '/Madgraph_Simulations/SM_Backgrounds/z_jets/z+jets_292/Events/run_01/m_delphes_events.root',\n",
       " '/Madgraph_Simulations/SM_Backgrounds/z_jets/z+jets_293/Events/run_01/m_delphes_events.root',\n",
       " '/Madgraph_Simulations/SM_Backgrounds/z_jets/z+jets_294/Events/run_01/m_delphes_events.root',\n",
       " '/Madgraph_Simulations/SM_Backgrounds/z_jets/z+jets_295/Events/run_01/m_delphes_events.root',\n",
       " '/Madgraph_Simulations/SM_Backgrounds/z_jets/z+jets_296/Events/run_01/m_delphes_events.root',\n",
       " '/Madgraph_Simulations/SM_Backgrounds/z_jets/z+jets_297/Events/run_01/m_delphes_events.root',\n",
       " '/Madgraph_Simulations/SM_Backgrounds/z_jets/z+jets_298/Events/run_01/m_delphes_events.root',\n",
       " '/Madgraph_Simulations/SM_Backgrounds/z_jets/z+jets_299/Events/run_01/m_delphes_events.root',\n",
       " '/Madgraph_Simulations/SM_Backgrounds/z_jets/z+jets_300/Events/run_01/m_delphes_events.root',\n",
       " '/Madgraph_Simulations/SM_Backgrounds/z_jets/z+jets_301/Events/run_01/m_delphes_events.root',\n",
       " '/Madgraph_Simulations/SM_Backgrounds/z_jets/z+jets_302/Events/run_01/m_delphes_events.root',\n",
       " '/Madgraph_Simulations/SM_Backgrounds/z_jets/z+jets_303/Events/run_01/m_delphes_events.root',\n",
       " '/Madgraph_Simulations/SM_Backgrounds/z_jets/z+jets_304/Events/run_01/m_delphes_events.root',\n",
       " '/Madgraph_Simulations/SM_Backgrounds/z_jets/z+jets_305/Events/run_01/m_delphes_events.root',\n",
       " '/Madgraph_Simulations/SM_Backgrounds/z_jets/z+jets_306/Events/run_01/m_delphes_events.root',\n",
       " '/Madgraph_Simulations/SM_Backgrounds/z_jets/z+jets_307/Events/run_01/m_delphes_events.root',\n",
       " '/Madgraph_Simulations/SM_Backgrounds/z_jets/z+jets_308/Events/run_01/m_delphes_events.root',\n",
       " '/Madgraph_Simulations/SM_Backgrounds/z_jets/z+jets_309/Events/run_01/m_delphes_events.root',\n",
       " '/Madgraph_Simulations/SM_Backgrounds/z_jets/z+jets_310/Events/run_01/m_delphes_events.root',\n",
       " '/Madgraph_Simulations/SM_Backgrounds/z_jets/z+jets_311/Events/run_01/m_delphes_events.root',\n",
       " '/Madgraph_Simulations/SM_Backgrounds/z_jets/z+jets_312/Events/run_01/m_delphes_events.root',\n",
       " '/Madgraph_Simulations/SM_Backgrounds/z_jets/z+jets_313/Events/run_01/m_delphes_events.root',\n",
       " '/Madgraph_Simulations/SM_Backgrounds/z_jets/z+jets_314/Events/run_01/m_delphes_events.root',\n",
       " '/Madgraph_Simulations/SM_Backgrounds/z_jets/z+jets_315/Events/run_01/m_delphes_events.root',\n",
       " '/Madgraph_Simulations/SM_Backgrounds/z_jets/z+jets_316/Events/run_01/m_delphes_events.root',\n",
       " '/Madgraph_Simulations/SM_Backgrounds/z_jets/z+jets_317/Events/run_01/m_delphes_events.root',\n",
       " '/Madgraph_Simulations/SM_Backgrounds/z_jets/z+jets_318/Events/run_01/m_delphes_events.root',\n",
       " '/Madgraph_Simulations/SM_Backgrounds/z_jets/z+jets_319/Events/run_01/m_delphes_events.root',\n",
       " '/Madgraph_Simulations/SM_Backgrounds/z_jets/z+jets_320/Events/run_01/m_delphes_events.root',\n",
       " '/Madgraph_Simulations/SM_Backgrounds/z_jets/z+jets_321/Events/run_01/m_delphes_events.root',\n",
       " '/Madgraph_Simulations/SM_Backgrounds/z_jets/z+jets_322/Events/run_01/m_delphes_events.root',\n",
       " '/Madgraph_Simulations/SM_Backgrounds/z_jets/z+jets_323/Events/run_01/m_delphes_events.root',\n",
       " '/Madgraph_Simulations/SM_Backgrounds/z_jets/z+jets_324/Events/run_01/m_delphes_events.root',\n",
       " '/Madgraph_Simulations/SM_Backgrounds/z_jets/z+jets_325/Events/run_01/m_delphes_events.root',\n",
       " '/Madgraph_Simulations/SM_Backgrounds/z_jets/z+jets_326/Events/run_01/m_delphes_events.root',\n",
       " '/Madgraph_Simulations/SM_Backgrounds/z_jets/z+jets_327/Events/run_01/m_delphes_events.root',\n",
       " '/Madgraph_Simulations/SM_Backgrounds/z_jets/z+jets_328/Events/run_01/m_delphes_events.root',\n",
       " '/Madgraph_Simulations/SM_Backgrounds/z_jets/z+jets_329/Events/run_01/m_delphes_events.root',\n",
       " '/Madgraph_Simulations/SM_Backgrounds/z_jets/z+jets_330/Events/run_01/m_delphes_events.root',\n",
       " '/Madgraph_Simulations/SM_Backgrounds/z_jets/z+jets_331/Events/run_01/m_delphes_events.root',\n",
       " '/Madgraph_Simulations/SM_Backgrounds/z_jets/z+jets_332/Events/run_01/m_delphes_events.root',\n",
       " '/Madgraph_Simulations/SM_Backgrounds/z_jets/z+jets_333/Events/run_01/m_delphes_events.root',\n",
       " '/Madgraph_Simulations/SM_Backgrounds/z_jets/z+jets_334/Events/run_01/m_delphes_events.root',\n",
       " '/Madgraph_Simulations/SM_Backgrounds/z_jets/z+jets_335/Events/run_01/m_delphes_events.root',\n",
       " '/Madgraph_Simulations/SM_Backgrounds/z_jets/z+jets_336/Events/run_01/m_delphes_events.root',\n",
       " '/Madgraph_Simulations/SM_Backgrounds/z_jets/z+jets_337/Events/run_01/m_delphes_events.root',\n",
       " '/Madgraph_Simulations/SM_Backgrounds/z_jets/z+jets_338/Events/run_01/m_delphes_events.root',\n",
       " '/Madgraph_Simulations/SM_Backgrounds/z_jets/z+jets_339/Events/run_01/m_delphes_events.root',\n",
       " '/Madgraph_Simulations/SM_Backgrounds/z_jets/z+jets_340/Events/run_01/m_delphes_events.root',\n",
       " '/Madgraph_Simulations/SM_Backgrounds/z_jets/z+jets_341/Events/run_01/m_delphes_events.root',\n",
       " '/Madgraph_Simulations/SM_Backgrounds/z_jets/z+jets_342/Events/run_01/m_delphes_events.root',\n",
       " '/Madgraph_Simulations/SM_Backgrounds/z_jets/z+jets_343/Events/run_01/m_delphes_events.root',\n",
       " '/Madgraph_Simulations/SM_Backgrounds/z_jets/z+jets_344/Events/run_01/m_delphes_events.root',\n",
       " '/Madgraph_Simulations/SM_Backgrounds/z_jets/z+jets_345/Events/run_01/m_delphes_events.root',\n",
       " '/Madgraph_Simulations/SM_Backgrounds/z_jets/z+jets_346/Events/run_01/m_delphes_events.root',\n",
       " '/Madgraph_Simulations/SM_Backgrounds/z_jets/z+jets_347/Events/run_01/m_delphes_events.root',\n",
       " '/Madgraph_Simulations/SM_Backgrounds/z_jets/z+jets_348/Events/run_01/m_delphes_events.root',\n",
       " '/Madgraph_Simulations/SM_Backgrounds/z_jets/z+jets_349/Events/run_01/m_delphes_events.root',\n",
       " '/Madgraph_Simulations/SM_Backgrounds/z_jets/z+jets_350/Events/run_01/m_delphes_events.root',\n",
       " '/Madgraph_Simulations/SM_Backgrounds/z_jets/z+jets_351/Events/run_01/m_delphes_events.root',\n",
       " '/Madgraph_Simulations/SM_Backgrounds/z_jets/z+jets_352/Events/run_01/m_delphes_events.root',\n",
       " '/Madgraph_Simulations/SM_Backgrounds/z_jets/z+jets_353/Events/run_01/m_delphes_events.root',\n",
       " '/Madgraph_Simulations/SM_Backgrounds/z_jets/z+jets_354/Events/run_01/m_delphes_events.root',\n",
       " '/Madgraph_Simulations/SM_Backgrounds/z_jets/z+jets_355/Events/run_01/m_delphes_events.root',\n",
       " '/Madgraph_Simulations/SM_Backgrounds/z_jets/z+jets_356/Events/run_01/m_delphes_events.root',\n",
       " '/Madgraph_Simulations/SM_Backgrounds/z_jets/z+jets_357/Events/run_01/m_delphes_events.root',\n",
       " '/Madgraph_Simulations/SM_Backgrounds/z_jets/z+jets_358/Events/run_01/m_delphes_events.root',\n",
       " '/Madgraph_Simulations/SM_Backgrounds/z_jets/z+jets_359/Events/run_01/m_delphes_events.root',\n",
       " '/Madgraph_Simulations/SM_Backgrounds/z_jets/z+jets_360/Events/run_01/m_delphes_events.root',\n",
       " '/Madgraph_Simulations/SM_Backgrounds/z_jets/z+jets_361/Events/run_01/m_delphes_events.root',\n",
       " '/Madgraph_Simulations/SM_Backgrounds/z_jets/z+jets_362/Events/run_01/m_delphes_events.root',\n",
       " '/Madgraph_Simulations/SM_Backgrounds/z_jets/z+jets_363/Events/run_01/m_delphes_events.root',\n",
       " '/Madgraph_Simulations/SM_Backgrounds/z_jets/z+jets_364/Events/run_01/m_delphes_events.root',\n",
       " '/Madgraph_Simulations/SM_Backgrounds/z_jets/z+jets_365/Events/run_01/m_delphes_events.root',\n",
       " '/Madgraph_Simulations/SM_Backgrounds/z_jets/z+jets_366/Events/run_01/m_delphes_events.root',\n",
       " '/Madgraph_Simulations/SM_Backgrounds/z_jets/z+jets_367/Events/run_01/m_delphes_events.root',\n",
       " '/Madgraph_Simulations/SM_Backgrounds/z_jets/z+jets_368/Events/run_01/m_delphes_events.root',\n",
       " '/Madgraph_Simulations/SM_Backgrounds/z_jets/z+jets_369/Events/run_01/m_delphes_events.root',\n",
       " '/Madgraph_Simulations/SM_Backgrounds/z_jets/z+jets_370/Events/run_01/m_delphes_events.root',\n",
       " '/Madgraph_Simulations/SM_Backgrounds/z_jets/z+jets_371/Events/run_01/m_delphes_events.root',\n",
       " '/Madgraph_Simulations/SM_Backgrounds/z_jets/z+jets_372/Events/run_01/m_delphes_events.root',\n",
       " '/Madgraph_Simulations/SM_Backgrounds/z_jets/z+jets_373/Events/run_01/m_delphes_events.root',\n",
       " '/Madgraph_Simulations/SM_Backgrounds/z_jets/z+jets_374/Events/run_01/m_delphes_events.root',\n",
       " '/Madgraph_Simulations/SM_Backgrounds/z_jets/z+jets_375/Events/run_01/m_delphes_events.root',\n",
       " '/Madgraph_Simulations/SM_Backgrounds/z_jets/z+jets_376/Events/run_01/m_delphes_events.root',\n",
       " '/Madgraph_Simulations/SM_Backgrounds/z_jets/z+jets_377/Events/run_01/m_delphes_events.root',\n",
       " '/Madgraph_Simulations/SM_Backgrounds/z_jets/z+jets_378/Events/run_01/m_delphes_events.root',\n",
       " '/Madgraph_Simulations/SM_Backgrounds/z_jets/z+jets_379/Events/run_01/m_delphes_events.root',\n",
       " '/Madgraph_Simulations/SM_Backgrounds/z_jets/z+jets_380/Events/run_01/m_delphes_events.root',\n",
       " '/Madgraph_Simulations/SM_Backgrounds/z_jets/z+jets_381/Events/run_01/m_delphes_events.root',\n",
       " '/Madgraph_Simulations/SM_Backgrounds/z_jets/z+jets_382/Events/run_01/m_delphes_events.root',\n",
       " '/Madgraph_Simulations/SM_Backgrounds/z_jets/z+jets_383/Events/run_01/m_delphes_events.root',\n",
       " '/Madgraph_Simulations/SM_Backgrounds/z_jets/z+jets_384/Events/run_01/m_delphes_events.root',\n",
       " '/Madgraph_Simulations/SM_Backgrounds/z_jets/z+jets_385/Events/run_01/m_delphes_events.root',\n",
       " '/Madgraph_Simulations/SM_Backgrounds/z_jets/z+jets_386/Events/run_01/m_delphes_events.root',\n",
       " '/Madgraph_Simulations/SM_Backgrounds/z_jets/z+jets_387/Events/run_01/m_delphes_events.root',\n",
       " '/Madgraph_Simulations/SM_Backgrounds/z_jets/z+jets_388/Events/run_01/m_delphes_events.root',\n",
       " '/Madgraph_Simulations/SM_Backgrounds/z_jets/z+jets_389/Events/run_01/m_delphes_events.root',\n",
       " '/Madgraph_Simulations/SM_Backgrounds/z_jets/z+jets_390/Events/run_01/m_delphes_events.root',\n",
       " '/Madgraph_Simulations/SM_Backgrounds/z_jets/z+jets_391/Events/run_01/m_delphes_events.root',\n",
       " '/Madgraph_Simulations/SM_Backgrounds/z_jets/z+jets_392/Events/run_01/m_delphes_events.root',\n",
       " '/Madgraph_Simulations/SM_Backgrounds/z_jets/z+jets_393/Events/run_01/m_delphes_events.root',\n",
       " '/Madgraph_Simulations/SM_Backgrounds/z_jets/z+jets_394/Events/run_01/m_delphes_events.root',\n",
       " '/Madgraph_Simulations/SM_Backgrounds/z_jets/z+jets_395/Events/run_01/m_delphes_events.root',\n",
       " '/Madgraph_Simulations/SM_Backgrounds/z_jets/z+jets_396/Events/run_01/m_delphes_events.root',\n",
       " '/Madgraph_Simulations/SM_Backgrounds/z_jets/z+jets_397/Events/run_01/m_delphes_events.root',\n",
       " '/Madgraph_Simulations/SM_Backgrounds/z_jets/z+jets_398/Events/run_01/m_delphes_events.root',\n",
       " '/Madgraph_Simulations/SM_Backgrounds/z_jets/z+jets_399/Events/run_01/m_delphes_events.root',\n",
       " '/Madgraph_Simulations/SM_Backgrounds/z_jets/z+jets_400/Events/run_01/m_delphes_events.root',\n",
       " '/Madgraph_Simulations/SM_Backgrounds/z_jets/z+jets_401/Events/run_01/m_delphes_events.root',\n",
       " '/Madgraph_Simulations/SM_Backgrounds/z_jets/z+jets_402/Events/run_01/m_delphes_events.root',\n",
       " '/Madgraph_Simulations/SM_Backgrounds/z_jets/z+jets_403/Events/run_01/m_delphes_events.root',\n",
       " '/Madgraph_Simulations/SM_Backgrounds/z_jets/z+jets_404/Events/run_01/m_delphes_events.root',\n",
       " '/Madgraph_Simulations/SM_Backgrounds/z_jets/z+jets_405/Events/run_01/m_delphes_events.root',\n",
       " '/Madgraph_Simulations/SM_Backgrounds/z_jets/z+jets_406/Events/run_01/m_delphes_events.root',\n",
       " '/Madgraph_Simulations/SM_Backgrounds/z_jets/z+jets_407/Events/run_01/m_delphes_events.root',\n",
       " '/Madgraph_Simulations/SM_Backgrounds/z_jets/z+jets_408/Events/run_01/m_delphes_events.root',\n",
       " '/Madgraph_Simulations/SM_Backgrounds/z_jets/z+jets_409/Events/run_01/m_delphes_events.root',\n",
       " '/Madgraph_Simulations/SM_Backgrounds/z_jets/z+jets_410/Events/run_01/m_delphes_events.root',\n",
       " '/Madgraph_Simulations/SM_Backgrounds/z_jets/z+jets_411/Events/run_01/m_delphes_events.root',\n",
       " '/Madgraph_Simulations/SM_Backgrounds/z_jets/z+jets_412/Events/run_01/m_delphes_events.root',\n",
       " '/Madgraph_Simulations/SM_Backgrounds/z_jets/z+jets_413/Events/run_01/m_delphes_events.root',\n",
       " '/Madgraph_Simulations/SM_Backgrounds/z_jets/z+jets_414/Events/run_01/m_delphes_events.root',\n",
       " '/Madgraph_Simulations/SM_Backgrounds/z_jets/z+jets_415/Events/run_01/m_delphes_events.root',\n",
       " '/Madgraph_Simulations/SM_Backgrounds/z_jets/z+jets_416/Events/run_01/m_delphes_events.root',\n",
       " '/Madgraph_Simulations/SM_Backgrounds/z_jets/z+jets_417/Events/run_01/m_delphes_events.root',\n",
       " '/Madgraph_Simulations/SM_Backgrounds/z_jets/z+jets_418/Events/run_01/m_delphes_events.root',\n",
       " '/Madgraph_Simulations/SM_Backgrounds/z_jets/z+jets_419/Events/run_01/m_delphes_events.root',\n",
       " '/Madgraph_Simulations/SM_Backgrounds/z_jets/z+jets_420/Events/run_01/m_delphes_events.root',\n",
       " '/Madgraph_Simulations/SM_Backgrounds/z_jets/z+jets_421/Events/run_01/m_delphes_events.root',\n",
       " '/Madgraph_Simulations/SM_Backgrounds/z_jets/z+jets_422/Events/run_01/m_delphes_events.root',\n",
       " '/Madgraph_Simulations/SM_Backgrounds/z_jets/z+jets_423/Events/run_01/m_delphes_events.root',\n",
       " '/Madgraph_Simulations/SM_Backgrounds/z_jets/z+jets_424/Events/run_01/m_delphes_events.root',\n",
       " '/Madgraph_Simulations/SM_Backgrounds/z_jets/z+jets_425/Events/run_01/m_delphes_events.root',\n",
       " '/Madgraph_Simulations/SM_Backgrounds/z_jets/z+jets_426/Events/run_01/m_delphes_events.root',\n",
       " '/Madgraph_Simulations/SM_Backgrounds/z_jets/z+jets_427/Events/run_01/m_delphes_events.root',\n",
       " '/Madgraph_Simulations/SM_Backgrounds/z_jets/z+jets_428/Events/run_01/m_delphes_events.root',\n",
       " '/Madgraph_Simulations/SM_Backgrounds/z_jets/z+jets_429/Events/run_01/m_delphes_events.root',\n",
       " '/Madgraph_Simulations/SM_Backgrounds/z_jets/z+jets_430/Events/run_01/m_delphes_events.root',\n",
       " '/Madgraph_Simulations/SM_Backgrounds/z_jets/z+jets_431/Events/run_01/m_delphes_events.root',\n",
       " '/Madgraph_Simulations/SM_Backgrounds/z_jets/z+jets_432/Events/run_01/m_delphes_events.root',\n",
       " '/Madgraph_Simulations/SM_Backgrounds/z_jets/z+jets_433/Events/run_01/m_delphes_events.root',\n",
       " '/Madgraph_Simulations/SM_Backgrounds/z_jets/z+jets_434/Events/run_01/m_delphes_events.root',\n",
       " '/Madgraph_Simulations/SM_Backgrounds/z_jets/z+jets_435/Events/run_01/m_delphes_events.root',\n",
       " '/Madgraph_Simulations/SM_Backgrounds/z_jets/z+jets_436/Events/run_01/m_delphes_events.root',\n",
       " '/Madgraph_Simulations/SM_Backgrounds/z_jets/z+jets_437/Events/run_01/m_delphes_events.root',\n",
       " '/Madgraph_Simulations/SM_Backgrounds/z_jets/z+jets_438/Events/run_01/m_delphes_events.root',\n",
       " '/Madgraph_Simulations/SM_Backgrounds/z_jets/z+jets_439/Events/run_01/m_delphes_events.root',\n",
       " '/Madgraph_Simulations/SM_Backgrounds/z_jets/z+jets_440/Events/run_01/m_delphes_events.root',\n",
       " '/Madgraph_Simulations/SM_Backgrounds/z_jets/z+jets_441/Events/run_01/m_delphes_events.root',\n",
       " '/Madgraph_Simulations/SM_Backgrounds/z_jets/z+jets_442/Events/run_01/m_delphes_events.root',\n",
       " '/Madgraph_Simulations/SM_Backgrounds/z_jets/z+jets_443/Events/run_01/m_delphes_events.root',\n",
       " '/Madgraph_Simulations/SM_Backgrounds/z_jets/z+jets_444/Events/run_01/m_delphes_events.root',\n",
       " '/Madgraph_Simulations/SM_Backgrounds/z_jets/z+jets_445/Events/run_01/m_delphes_events.root',\n",
       " '/Madgraph_Simulations/SM_Backgrounds/z_jets/z+jets_446/Events/run_01/m_delphes_events.root',\n",
       " '/Madgraph_Simulations/SM_Backgrounds/z_jets/z+jets_447/Events/run_01/m_delphes_events.root',\n",
       " '/Madgraph_Simulations/SM_Backgrounds/z_jets/z+jets_448/Events/run_01/m_delphes_events.root',\n",
       " '/Madgraph_Simulations/SM_Backgrounds/z_jets/z+jets_449/Events/run_01/m_delphes_events.root',\n",
       " '/Madgraph_Simulations/SM_Backgrounds/z_jets/z+jets_450/Events/run_01/m_delphes_events.root',\n",
       " '/Madgraph_Simulations/SM_Backgrounds/z_jets/z+jets_451/Events/run_01/m_delphes_events.root',\n",
       " '/Madgraph_Simulations/SM_Backgrounds/z_jets/z+jets_452/Events/run_01/m_delphes_events.root',\n",
       " '/Madgraph_Simulations/SM_Backgrounds/z_jets/z+jets_453/Events/run_01/m_delphes_events.root',\n",
       " '/Madgraph_Simulations/SM_Backgrounds/z_jets/z+jets_454/Events/run_01/m_delphes_events.root',\n",
       " '/Madgraph_Simulations/SM_Backgrounds/z_jets/z+jets_455/Events/run_01/m_delphes_events.root',\n",
       " '/Madgraph_Simulations/SM_Backgrounds/z_jets/z+jets_456/Events/run_01/m_delphes_events.root',\n",
       " '/Madgraph_Simulations/SM_Backgrounds/z_jets/z+jets_457/Events/run_01/m_delphes_events.root',\n",
       " '/Madgraph_Simulations/SM_Backgrounds/z_jets/z+jets_458/Events/run_01/m_delphes_events.root',\n",
       " '/Madgraph_Simulations/SM_Backgrounds/z_jets/z+jets_459/Events/run_01/m_delphes_events.root',\n",
       " '/Madgraph_Simulations/SM_Backgrounds/z_jets/z+jets_460/Events/run_01/m_delphes_events.root',\n",
       " '/Madgraph_Simulations/SM_Backgrounds/z_jets/z+jets_461/Events/run_01/m_delphes_events.root',\n",
       " '/Madgraph_Simulations/SM_Backgrounds/z_jets/z+jets_462/Events/run_01/m_delphes_events.root',\n",
       " '/Madgraph_Simulations/SM_Backgrounds/z_jets/z+jets_463/Events/run_01/m_delphes_events.root',\n",
       " '/Madgraph_Simulations/SM_Backgrounds/z_jets/z+jets_464/Events/run_01/m_delphes_events.root',\n",
       " '/Madgraph_Simulations/SM_Backgrounds/z_jets/z+jets_465/Events/run_01/m_delphes_events.root',\n",
       " '/Madgraph_Simulations/SM_Backgrounds/z_jets/z+jets_466/Events/run_01/m_delphes_events.root',\n",
       " '/Madgraph_Simulations/SM_Backgrounds/z_jets/z+jets_467/Events/run_01/m_delphes_events.root',\n",
       " '/Madgraph_Simulations/SM_Backgrounds/z_jets/z+jets_468/Events/run_01/m_delphes_events.root',\n",
       " '/Madgraph_Simulations/SM_Backgrounds/z_jets/z+jets_469/Events/run_01/m_delphes_events.root',\n",
       " '/Madgraph_Simulations/SM_Backgrounds/z_jets/z+jets_470/Events/run_01/m_delphes_events.root',\n",
       " '/Madgraph_Simulations/SM_Backgrounds/z_jets/z+jets_471/Events/run_01/m_delphes_events.root',\n",
       " '/Madgraph_Simulations/SM_Backgrounds/z_jets/z+jets_472/Events/run_01/m_delphes_events.root',\n",
       " '/Madgraph_Simulations/SM_Backgrounds/z_jets/z+jets_473/Events/run_01/m_delphes_events.root',\n",
       " '/Madgraph_Simulations/SM_Backgrounds/z_jets/z+jets_474/Events/run_01/m_delphes_events.root',\n",
       " '/Madgraph_Simulations/SM_Backgrounds/z_jets/z+jets_475/Events/run_01/m_delphes_events.root',\n",
       " '/Madgraph_Simulations/SM_Backgrounds/z_jets/z+jets_476/Events/run_01/m_delphes_events.root',\n",
       " '/Madgraph_Simulations/SM_Backgrounds/z_jets/z+jets_477/Events/run_01/m_delphes_events.root',\n",
       " '/Madgraph_Simulations/SM_Backgrounds/z_jets/z+jets_478/Events/run_01/m_delphes_events.root',\n",
       " '/Madgraph_Simulations/SM_Backgrounds/z_jets/z+jets_479/Events/run_01/m_delphes_events.root',\n",
       " '/Madgraph_Simulations/SM_Backgrounds/z_jets/z+jets_480/Events/run_01/m_delphes_events.root',\n",
       " '/Madgraph_Simulations/SM_Backgrounds/z_jets/z+jets_481/Events/run_01/m_delphes_events.root',\n",
       " '/Madgraph_Simulations/SM_Backgrounds/z_jets/z+jets_482/Events/run_01/m_delphes_events.root',\n",
       " '/Madgraph_Simulations/SM_Backgrounds/z_jets/z+jets_483/Events/run_01/m_delphes_events.root',\n",
       " '/Madgraph_Simulations/SM_Backgrounds/z_jets/z+jets_484/Events/run_01/m_delphes_events.root',\n",
       " '/Madgraph_Simulations/SM_Backgrounds/z_jets/z+jets_485/Events/run_01/m_delphes_events.root',\n",
       " '/Madgraph_Simulations/SM_Backgrounds/z_jets/z+jets_486/Events/run_01/m_delphes_events.root',\n",
       " '/Madgraph_Simulations/SM_Backgrounds/z_jets/z+jets_487/Events/run_01/m_delphes_events.root',\n",
       " '/Madgraph_Simulations/SM_Backgrounds/z_jets/z+jets_488/Events/run_01/m_delphes_events.root',\n",
       " '/Madgraph_Simulations/SM_Backgrounds/z_jets/z+jets_489/Events/run_01/m_delphes_events.root',\n",
       " '/Madgraph_Simulations/SM_Backgrounds/z_jets/z+jets_490/Events/run_01/m_delphes_events.root',\n",
       " '/Madgraph_Simulations/SM_Backgrounds/z_jets/z+jets_491/Events/run_01/m_delphes_events.root',\n",
       " '/Madgraph_Simulations/SM_Backgrounds/z_jets/z+jets_492/Events/run_01/m_delphes_events.root',\n",
       " '/Madgraph_Simulations/SM_Backgrounds/z_jets/z+jets_493/Events/run_01/m_delphes_events.root',\n",
       " '/Madgraph_Simulations/SM_Backgrounds/z_jets/z+jets_494/Events/run_01/m_delphes_events.root',\n",
       " '/Madgraph_Simulations/SM_Backgrounds/z_jets/z+jets_495/Events/run_01/m_delphes_events.root',\n",
       " '/Madgraph_Simulations/SM_Backgrounds/z_jets/z+jets_496/Events/run_01/m_delphes_events.root',\n",
       " '/Madgraph_Simulations/SM_Backgrounds/z_jets/z+jets_497/Events/run_01/m_delphes_events.root',\n",
       " '/Madgraph_Simulations/SM_Backgrounds/z_jets/z+jets_498/Events/run_01/m_delphes_events.root',\n",
       " '/Madgraph_Simulations/SM_Backgrounds/z_jets/z+jets_499/Events/run_01/m_delphes_events.root',\n",
       " '/Madgraph_Simulations/SM_Backgrounds/z_jets/z+jets_500/Events/run_01/m_delphes_events.root']"
      ]
     },
     "execution_count": 5,
     "metadata": {},
     "output_type": "execute_result"
    }
   ],
   "source": [
    "Rutas"
   ]
  },
  {
   "cell_type": "markdown",
   "id": "e456777a-e699-4b16-8828-04e0b98572ef",
   "metadata": {},
   "source": [
    "Es una lista con todas las rutas a los archivos .root de z_jets alojados en el servidor. Usemos solo la primera para este tutorial básico."
   ]
  },
  {
   "cell_type": "code",
   "execution_count": 6,
   "id": "bae6e929-f00d-4c4f-b687-9c3feb1228d5",
   "metadata": {},
   "outputs": [
    {
     "data": {
      "text/plain": [
       "'/Madgraph_Simulations/SM_Backgrounds/z_jets/z+jets_1/Events/run_01/m_delphes_events.root'"
      ]
     },
     "execution_count": 6,
     "metadata": {},
     "output_type": "execute_result"
    }
   ],
   "source": [
    "Rutas[0] #con [0] se llama a la primera"
   ]
  },
  {
   "cell_type": "markdown",
   "id": "bd9eb555-8ac2-4fb2-9718-02bfdc9e4b8d",
   "metadata": {},
   "source": [
    "**3.** Importar TChain desde ROOT para poder leer el archivo."
   ]
  },
  {
   "cell_type": "code",
   "execution_count": 7,
   "id": "cd08d08e-4127-4baf-bb33-7a693ea2696d",
   "metadata": {},
   "outputs": [],
   "source": [
    "from ROOT import TChain"
   ]
  },
  {
   "cell_type": "markdown",
   "id": "3c063484-0c92-4124-b59f-c5faa42305f8",
   "metadata": {},
   "source": [
    "**4.** Extraígamos todas los muones contenidos en este archivo."
   ]
  },
  {
   "cell_type": "code",
   "execution_count": 8,
   "id": "329fe854-14a2-43b1-84f5-2b768e975c97",
   "metadata": {},
   "outputs": [
    {
     "name": "stderr",
     "output_type": "stream",
     "text": [
      "Warning in <TClass::Init>: no dictionary for class HepMCEvent is available\n",
      "Warning in <TClass::Init>: no dictionary for class Event is available\n",
      "Warning in <TClass::Init>: no dictionary for class GenParticle is available\n",
      "Warning in <TClass::Init>: no dictionary for class SortableObject is available\n",
      "Warning in <TClass::Init>: no dictionary for class Track is available\n",
      "Warning in <TClass::Init>: no dictionary for class Tower is available\n",
      "Warning in <TClass::Init>: no dictionary for class Jet is available\n",
      "Warning in <TClass::Init>: no dictionary for class MissingET is available\n",
      "Warning in <TClass::Init>: no dictionary for class Electron is available\n",
      "Warning in <TClass::Init>: no dictionary for class Photon is available\n",
      "Warning in <TClass::Init>: no dictionary for class Muon is available\n",
      "Warning in <TClass::Init>: no dictionary for class ScalarHT is available\n"
     ]
    }
   ],
   "source": [
    "tree = TChain(\"Delphes;1\") #Arbol de datos, ahora debemos añadirle la ruta\n",
    "tree.Add(Rutas[0]) #Ahora tree es el arbol de datos asociado a Rutas[0]\n",
    "\n",
    "#Este archivo.root contiene 50000 eventos, para optimizar la velocidad de este tutorial recorramos solo los primeros 1000, para esto debemos definir una variable que lleve la cuenta:\n",
    "n = 0\n",
    "\n",
    "for event in tree:\n",
    "    if (n == 1000): break #el for acaba cuando n llega a 10000\n",
    "    else: n = n + 1 #el for continua pero se aumenta en 1 el valor de n\n",
    "    \n",
    "    #Para extraer los muones presentes en el evento debemos recurrir a clasificator.get_muons e ingresar como parametro el evento.\n",
    "    muons = clasificator.get_muons(event) #Así, muons es una lista que contiene a todos los objetos tipos muon presentes en el evento.\n",
    "    \n",
    "    #Antes de pensar en extraer las variables cinematicas debemos revisar que la lista no este vacía.\n",
    "    if (len(muons) == 0): continue #El for finaliza este ciclo cuando no hay muones, empieza el recorrido para el siguiente evento.\n",
    "    \n",
    "    #De forma similar podemos revisar que hayan dos muones.\n",
    "    if (len(muons) < 2): continue #El for finaliza este ciclo cuando no hay al menos 2 muones, empieza el recorrido para el siguiente evento.\n",
    "    \n",
    "    #En este punto cualquier evento que llegue hasta esta parte del código debe tener al menos 2 muones, por lo que podemos llamarlos sin tener problemas:\n",
    "    muon1 = muons[0]\n",
    "    muon2 = muons[1]\n",
    "    \n",
    "    #Ahora, para extraer las variables cinematicas simplemente toca usar los metodos de la clase partículas, por ejemplo:    \n",
    "    pT = muons[0].pt()"
   ]
  },
  {
   "cell_type": "markdown",
   "id": "eaf55b5a-cd23-4ade-bce8-9503326e124f",
   "metadata": {},
   "source": [
    "Imprimamos pT para ver si efectivamente pT tiene un valor con sentido:"
   ]
  },
  {
   "cell_type": "code",
   "execution_count": 9,
   "id": "eb100b0f-97df-46d3-89dc-72228621f91e",
   "metadata": {},
   "outputs": [
    {
     "data": {
      "text/plain": [
       "27.386837005615234"
      ]
     },
     "execution_count": 9,
     "metadata": {},
     "output_type": "execute_result"
    }
   ],
   "source": [
    "pT"
   ]
  },
  {
   "cell_type": "markdown",
   "id": "09690b7e-01de-47e9-86d8-0d2872d56ba2",
   "metadata": {},
   "source": [
    "Con esto claro, podríamos pensar también aplicar un corte en el momento, por ejemplo que el muon 1 tenga un pt mayor a 30:"
   ]
  },
  {
   "cell_type": "code",
   "execution_count": 10,
   "id": "90c4ba0d-7b5a-488b-8e73-7c40c174ea0f",
   "metadata": {},
   "outputs": [
    {
     "name": "stdout",
     "output_type": "stream",
     "text": [
      "270.6822204589844\n",
      "58.45050430297852\n",
      "44.494266510009766\n",
      "35.032440185546875\n",
      "49.55564117431641\n",
      "47.303871154785156\n",
      "42.269561767578125\n"
     ]
    }
   ],
   "source": [
    "#Claramente para hacerlo debemos escribir todo el código de arriba nuevamente:\n",
    "\n",
    "tree = TChain(\"Delphes;1\") #Arbol de datos, ahora debemos añadirle la ruta\n",
    "tree.Add(Rutas[0]) #Ahora tree es el arbol de datos asociado a Rutas[0]\n",
    "\n",
    "#Este archivo.root contiene 50000 eventos, para optimizar la velocidad de este tutorial recorramos solo los primeros 1000, para esto debemos definir una variable que lleve la cuenta:\n",
    "n = 0\n",
    "\n",
    "for event in tree:\n",
    "    if (n == 1000): break #el for acaba cuando n llega a 10000\n",
    "    else: n = n + 1 #el for continua pero se aumenta en 1 el valor de n\n",
    "    \n",
    "    #Para extraer los muones presentes en el evento debemos recurrir a clasificator.get_muons e ingresar como parametro el evento.\n",
    "    muons = clasificator.get_muons(event) #Así, muons es una lista que contiene a todos los objetos tipos muon presentes en el evento.\n",
    "    \n",
    "    #Antes de pensar en extraer las variables cinematicas debemos revisar que la lista no este vacía.\n",
    "    if (len(muons) == 0): continue #El for finaliza este ciclo cuando no hay muones, empieza el recorrido para el siguiente evento.\n",
    "    \n",
    "    #De forma similar podemos revisar que hayan dos muones.\n",
    "    if (len(muons) < 2): continue #El for finaliza este ciclo cuando no hay al menos 2 muones, empieza el recorrido para el siguiente evento.\n",
    "    \n",
    "    #En este punto cualquier evento que llegue hasta esta parte del código debe tener al menos 2 muones, por lo que podemos llamarlos sin tener problemas:\n",
    "    muon1 = muons[0]\n",
    "    muon2 = muons[1]\n",
    "    \n",
    "    #Ahora, para extraer las variables cinematicas simplemente toca usar los metodos de la clase partículas, por ejemplo:    \n",
    "    pT = muons[0].pt()\n",
    "    \n",
    "    #Ahora si añadamos código:\n",
    "    \n",
    "    if(pT < 30): continue\n",
    "    print(pT)"
   ]
  },
  {
   "cell_type": "markdown",
   "id": "b753cd12-334c-45bd-9cd9-859daa9b4f43",
   "metadata": {},
   "source": [
    "Efectivamente solo se imprimen valores mayores que 30 como esperabamos. Si quisieramos podríamos hacer una lista en python y guardar esos valores. A la larga guardar los valores depende de la creatividad de cada persona. Sin embargo, hay un método de root_analysis llamado get_kinematics_row que permite extraer todas las variables cinemáticas:"
   ]
  },
  {
   "cell_type": "code",
   "execution_count": 11,
   "id": "68bdc998-01bc-4bdd-a3ce-0fd9060b42e7",
   "metadata": {},
   "outputs": [
    {
     "name": "stdout",
     "output_type": "stream",
     "text": [
      "{'pT_{#mu}(GeV)': 270.6822204589844, '#eta_{#mu}': 1.3156737089157107, '#phi_{#mu}': -0.29182672500610346, 'Energy_{#mu}(GeV)': 540.7628247215982, 'Mass_{#mu}(GeV)': 0.10565837534770162}\n",
      "{'pT_{#mu}(GeV)': 58.45050430297852, '#eta_{#mu}': 1.8908085823059073, '#phi_{#mu}': 1.6956651210784912, 'Energy_{#mu}(GeV)': 198.0207758459848, 'Mass_{#mu}(GeV)': 0.10565837551985922}\n",
      "{'pT_{#mu}(GeV)': 44.494266510009766, '#eta_{#mu}': -0.30178877711296076, '#phi_{#mu}': -2.918978452682495, 'Energy_{#mu}(GeV)': 46.53600168215108, 'Mass_{#mu}(GeV)': 0.1056583755004915}\n",
      "{'pT_{#mu}(GeV)': 35.032440185546875, '#eta_{#mu}': -1.451607584953308, '#phi_{#mu}': 0.23540805280208585, 'Energy_{#mu}(GeV)': 78.89604853900313, 'Mass_{#mu}(GeV)': 0.10565837549833952}\n",
      "{'pT_{#mu}(GeV)': 49.55564117431641, '#eta_{#mu}': 1.2485618591308594, '#phi_{#mu}': 0.5541310906410217, 'Energy_{#mu}(GeV)': 93.46804693949507, 'Mass_{#mu}(GeV)': 0.10565837550264347}\n",
      "{'pT_{#mu}(GeV)': 47.303871154785156, '#eta_{#mu}': 0.39316532015800487, '#phi_{#mu}': -1.1240276098251343, 'Energy_{#mu}(GeV)': 51.007411985344326, 'Mass_{#mu}(GeV)': 0.1056583755004915}\n",
      "{'pT_{#mu}(GeV)': 42.269561767578125, '#eta_{#mu}': -1.1631853580474854, '#phi_{#mu}': -2.3882052898406982, 'Energy_{#mu}(GeV)': 74.23810145156934, 'Mass_{#mu}(GeV)': 0.10565837550264347}\n"
     ]
    }
   ],
   "source": [
    "#Claramente para hacerlDataFramebemos escribir todo el código de arriba nuevamente:\n",
    "\n",
    "tree = TChain(\"Delphes;1\") #Arbol de datos, ahora debemos añadirle la ruta\n",
    "tree.Add(Rutas[0]) #Ahora tree es el arbol de datos asociado a Rutas[0]\n",
    "\n",
    "#Este archivo.root contiene 50000 eventos, para optimizar la velocidad de este tutorial recorramos solo los primeros 1000, para esto debemos definir una variable que lleve la cuenta:\n",
    "n = 0\n",
    "\n",
    "for event in tree:\n",
    "    if (n == 1000): break #el for acaba cuando n llega a 10000\n",
    "    else: n = n + 1 #el for continua pero se aumenta en 1 el valor de n\n",
    "    \n",
    "    #Para extraer los muones presentes en el evento debemos recurrir a clasificator.get_muons e ingresar como parametro el evento.\n",
    "    muons = clasificator.get_muons(event) #Así, muons es una lista que contiene a todos los objetos tipos muon presentes en el evento.\n",
    "    \n",
    "    #Antes de pensar en extraer las variables cinematicas debemos revisar que la lista no este vacía.\n",
    "    if (len(muons) == 0): continue #El for finaliza este ciclo cuando no hay muones, empieza el recorrido para el siguiente evento.\n",
    "    \n",
    "    #De forma similar podemos revisar que hayan dos muones.\n",
    "    if (len(muons) < 2): continue #El for finaliza este ciclo cuando no hay al menos 2 muones, empieza el recorrido para el siguiente evento.\n",
    "    \n",
    "    #En este punto cualquier evento que llegue hasta esta parte del código debe tener al menos 2 muones, por lo que podemos llamarlos sin tener problemas:\n",
    "    muon1 = muons[0]\n",
    "    muon2 = muons[1]\n",
    "    \n",
    "    #Ahora, para extraer las variables cinematicas simplemente toca usar los metodos de la clase partículas, por ejemplo:    \n",
    "    pT = muons[0].pt()\n",
    "    \n",
    "    #Ahora si añadamos código:\n",
    "    \n",
    "    if(pT < 30): continue\n",
    "    \n",
    "    print(root_analysis.get_kinematics_row(muons[0]))"
   ]
  },
  {
   "cell_type": "markdown",
   "id": "0ad77620-956c-49a6-b087-a16d703fc5fa",
   "metadata": {},
   "source": [
    "Este método extrae las variables cinematicas como directorios:"
   ]
  },
  {
   "cell_type": "markdown",
   "id": "6010aa5f-ec34-45b3-9996-1db52d141739",
   "metadata": {},
   "source": [
    "**5.** Guardemos esta información en una tabla y construyamos un archivo .csv\n",
    "\n",
    "Una forma facil de esto radica en guardar todas las filas en una lista:"
   ]
  },
  {
   "cell_type": "code",
   "execution_count": 12,
   "id": "a9af58e7-bf07-4fce-885c-3c1a05d7ec21",
   "metadata": {},
   "outputs": [],
   "source": [
    "#Para esto debemos crear la lista:\n",
    "\n",
    "lista = []\n",
    "\n",
    "#Claramente para hacerlDataFramebemos escribir todo el código de arriba nuevamente:\n",
    "\n",
    "tree = TChain(\"Delphes;1\") #Arbol de datos, ahora debemos añadirle la ruta\n",
    "tree.Add(Rutas[0]) #Ahora tree es el arbol de datos asociado a Rutas[0]\n",
    "\n",
    "#Este archivo.root contiene 50000 eventos, para optimizar la velocidad de este tutorial recorramos solo los primeros 1000, para esto debemos definir una variable que lleve la cuenta:\n",
    "n = 0\n",
    "\n",
    "for event in tree:\n",
    "    if (n == 1000): break #el for acaba cuando n llega a 10000\n",
    "    else: n = n + 1 #el for continua pero se aumenta en 1 el valor de n\n",
    "    \n",
    "    #Para extraer los muones presentes en el evento debemos recurrir a clasificator.get_muons e ingresar como parametro el evento.\n",
    "    muons = clasificator.get_muons(event) #Así, muons es una lista que contiene a todos los objetos tipos muon presentes en el evento.\n",
    "    \n",
    "    #Antes de pensar en extraer las variables cinematicas debemos revisar que la lista no este vacía.\n",
    "    if (len(muons) == 0): continue #El for finaliza este ciclo cuando no hay muones, empieza el recorrido para el siguiente evento.\n",
    "    \n",
    "    #De forma similar podemos revisar que hayan dos muones.\n",
    "    if (len(muons) < 2): continue #El for finaliza este ciclo cuando no hay al menos 2 muones, empieza el recorrido para el siguiente evento.\n",
    "    \n",
    "    #En este punto cualquier evento que llegue hasta esta parte del código debe tener al menos 2 muones, por lo que podemos llamarlos sin tener problemas:\n",
    "    muon1 = muons[0]\n",
    "    muon2 = muons[1]\n",
    "    \n",
    "    #Ahora, para extraer las variables cinematicas simplemente toca usar los metodos de la clase partículas, por ejemplo:    \n",
    "    pT = muons[0].pt()\n",
    "    \n",
    "    #Ahora si añadamos código:\n",
    "    \n",
    "    if(pT < 30): continue\n",
    "    \n",
    "    lista.append(root_analysis.get_kinematics_row(muons[0]))"
   ]
  },
  {
   "cell_type": "markdown",
   "id": "07e05c02-9287-4010-a7de-ab6ed7a887c2",
   "metadata": {},
   "source": [
    "Así"
   ]
  },
  {
   "cell_type": "code",
   "execution_count": 13,
   "id": "dca30732-f06a-49ab-8f92-62d8099ccec7",
   "metadata": {},
   "outputs": [
    {
     "data": {
      "text/plain": [
       "[{'pT_{#mu}(GeV)': 270.6822204589844,\n",
       "  '#eta_{#mu}': 1.3156737089157107,\n",
       "  '#phi_{#mu}': -0.29182672500610346,\n",
       "  'Energy_{#mu}(GeV)': 540.7628247215982,\n",
       "  'Mass_{#mu}(GeV)': 0.10565837534770162},\n",
       " {'pT_{#mu}(GeV)': 58.45050430297852,\n",
       "  '#eta_{#mu}': 1.8908085823059073,\n",
       "  '#phi_{#mu}': 1.6956651210784912,\n",
       "  'Energy_{#mu}(GeV)': 198.0207758459848,\n",
       "  'Mass_{#mu}(GeV)': 0.10565837551985922},\n",
       " {'pT_{#mu}(GeV)': 44.494266510009766,\n",
       "  '#eta_{#mu}': -0.30178877711296076,\n",
       "  '#phi_{#mu}': -2.918978452682495,\n",
       "  'Energy_{#mu}(GeV)': 46.53600168215108,\n",
       "  'Mass_{#mu}(GeV)': 0.1056583755004915},\n",
       " {'pT_{#mu}(GeV)': 35.032440185546875,\n",
       "  '#eta_{#mu}': -1.451607584953308,\n",
       "  '#phi_{#mu}': 0.23540805280208585,\n",
       "  'Energy_{#mu}(GeV)': 78.89604853900313,\n",
       "  'Mass_{#mu}(GeV)': 0.10565837549833952},\n",
       " {'pT_{#mu}(GeV)': 49.55564117431641,\n",
       "  '#eta_{#mu}': 1.2485618591308594,\n",
       "  '#phi_{#mu}': 0.5541310906410217,\n",
       "  'Energy_{#mu}(GeV)': 93.46804693949507,\n",
       "  'Mass_{#mu}(GeV)': 0.10565837550264347},\n",
       " {'pT_{#mu}(GeV)': 47.303871154785156,\n",
       "  '#eta_{#mu}': 0.39316532015800487,\n",
       "  '#phi_{#mu}': -1.1240276098251343,\n",
       "  'Energy_{#mu}(GeV)': 51.007411985344326,\n",
       "  'Mass_{#mu}(GeV)': 0.1056583755004915},\n",
       " {'pT_{#mu}(GeV)': 42.269561767578125,\n",
       "  '#eta_{#mu}': -1.1631853580474854,\n",
       "  '#phi_{#mu}': -2.3882052898406982,\n",
       "  'Energy_{#mu}(GeV)': 74.23810145156934,\n",
       "  'Mass_{#mu}(GeV)': 0.10565837550264347}]"
      ]
     },
     "execution_count": 13,
     "metadata": {},
     "output_type": "execute_result"
    }
   ],
   "source": [
    "lista"
   ]
  },
  {
   "cell_type": "markdown",
   "id": "dec73eb3-422c-4884-bda5-a2b1eff664d8",
   "metadata": {},
   "source": [
    "Ahora para convertir esta información en un archivo csv simplemente hay que usar la función generate_csv de root_analysis:"
   ]
  },
  {
   "cell_type": "code",
   "execution_count": 14,
   "id": "b41ff644-96ef-4177-b3c9-1a70578ae0d3",
   "metadata": {},
   "outputs": [],
   "source": [
    "root_analysis.generate_csv(lista, 'Data_muones.csv')"
   ]
  },
  {
   "cell_type": "markdown",
   "id": "1225f134-be3f-4152-acde-6922aef4b780",
   "metadata": {},
   "source": [
    "**6.** Leamos el archivo .csv para generar los histogramas:\n",
    "\n",
    "Para leer archivos .csv debemos importar pandas, una librería de python que permite trabajar con big data:"
   ]
  },
  {
   "cell_type": "code",
   "execution_count": 15,
   "id": "2fc0c673-9a29-46b5-bc10-013f4f28130b",
   "metadata": {},
   "outputs": [],
   "source": [
    "import pandas as pd"
   ]
  },
  {
   "cell_type": "markdown",
   "id": "f2808d29-9ef4-4075-88ad-464816e42286",
   "metadata": {},
   "source": [
    "Ahora simplemente basta con usar pd.read_csv y poner como parámetros el nombre del archivo e index_col = 0."
   ]
  },
  {
   "cell_type": "code",
   "execution_count": 16,
   "id": "6c43442c-708a-4698-b010-f603a93e5637",
   "metadata": {},
   "outputs": [],
   "source": [
    "Data = pd.read_csv('Data_muones.csv', index_col= 0)"
   ]
  },
  {
   "cell_type": "code",
   "execution_count": 17,
   "id": "064a9b45-29d7-429c-a9fc-1fbf4b47ef56",
   "metadata": {},
   "outputs": [
    {
     "data": {
      "text/html": [
       "<div>\n",
       "<style scoped>\n",
       "    .dataframe tbody tr th:only-of-type {\n",
       "        vertical-align: middle;\n",
       "    }\n",
       "\n",
       "    .dataframe tbody tr th {\n",
       "        vertical-align: top;\n",
       "    }\n",
       "\n",
       "    .dataframe thead th {\n",
       "        text-align: right;\n",
       "    }\n",
       "</style>\n",
       "<table border=\"1\" class=\"dataframe\">\n",
       "  <thead>\n",
       "    <tr style=\"text-align: right;\">\n",
       "      <th></th>\n",
       "      <th>pT_{#mu}(GeV)</th>\n",
       "      <th>#eta_{#mu}</th>\n",
       "      <th>#phi_{#mu}</th>\n",
       "      <th>Energy_{#mu}(GeV)</th>\n",
       "      <th>Mass_{#mu}(GeV)</th>\n",
       "    </tr>\n",
       "  </thead>\n",
       "  <tbody>\n",
       "    <tr>\n",
       "      <th>0</th>\n",
       "      <td>270.682220</td>\n",
       "      <td>1.315674</td>\n",
       "      <td>-0.291827</td>\n",
       "      <td>540.762825</td>\n",
       "      <td>0.105658</td>\n",
       "    </tr>\n",
       "    <tr>\n",
       "      <th>1</th>\n",
       "      <td>58.450504</td>\n",
       "      <td>1.890809</td>\n",
       "      <td>1.695665</td>\n",
       "      <td>198.020776</td>\n",
       "      <td>0.105658</td>\n",
       "    </tr>\n",
       "    <tr>\n",
       "      <th>2</th>\n",
       "      <td>44.494267</td>\n",
       "      <td>-0.301789</td>\n",
       "      <td>-2.918978</td>\n",
       "      <td>46.536002</td>\n",
       "      <td>0.105658</td>\n",
       "    </tr>\n",
       "    <tr>\n",
       "      <th>3</th>\n",
       "      <td>35.032440</td>\n",
       "      <td>-1.451608</td>\n",
       "      <td>0.235408</td>\n",
       "      <td>78.896049</td>\n",
       "      <td>0.105658</td>\n",
       "    </tr>\n",
       "    <tr>\n",
       "      <th>4</th>\n",
       "      <td>49.555641</td>\n",
       "      <td>1.248562</td>\n",
       "      <td>0.554131</td>\n",
       "      <td>93.468047</td>\n",
       "      <td>0.105658</td>\n",
       "    </tr>\n",
       "    <tr>\n",
       "      <th>5</th>\n",
       "      <td>47.303871</td>\n",
       "      <td>0.393165</td>\n",
       "      <td>-1.124028</td>\n",
       "      <td>51.007412</td>\n",
       "      <td>0.105658</td>\n",
       "    </tr>\n",
       "    <tr>\n",
       "      <th>6</th>\n",
       "      <td>42.269562</td>\n",
       "      <td>-1.163185</td>\n",
       "      <td>-2.388205</td>\n",
       "      <td>74.238101</td>\n",
       "      <td>0.105658</td>\n",
       "    </tr>\n",
       "  </tbody>\n",
       "</table>\n",
       "</div>"
      ],
      "text/plain": [
       "   pT_{#mu}(GeV)  #eta_{#mu}  #phi_{#mu}  Energy_{#mu}(GeV)  Mass_{#mu}(GeV)\n",
       "0     270.682220    1.315674   -0.291827         540.762825         0.105658\n",
       "1      58.450504    1.890809    1.695665         198.020776         0.105658\n",
       "2      44.494267   -0.301789   -2.918978          46.536002         0.105658\n",
       "3      35.032440   -1.451608    0.235408          78.896049         0.105658\n",
       "4      49.555641    1.248562    0.554131          93.468047         0.105658\n",
       "5      47.303871    0.393165   -1.124028          51.007412         0.105658\n",
       "6      42.269562   -1.163185   -2.388205          74.238101         0.105658"
      ]
     },
     "execution_count": 17,
     "metadata": {},
     "output_type": "execute_result"
    }
   ],
   "source": [
    "Data"
   ]
  },
  {
   "cell_type": "markdown",
   "id": "3b80aea7-cc35-471e-a44a-b8955f321383",
   "metadata": {},
   "source": [
    "Para acceder a cada columna basta con usar las keys de este DataFrame:"
   ]
  },
  {
   "cell_type": "code",
   "execution_count": 18,
   "id": "0fe11c1b-0733-422c-8d3b-2a7875990dc4",
   "metadata": {},
   "outputs": [
    {
     "data": {
      "text/plain": [
       "Index(['pT_{#mu}(GeV)', '#eta_{#mu}', '#phi_{#mu}', 'Energy_{#mu}(GeV)',\n",
       "       'Mass_{#mu}(GeV)'],\n",
       "      dtype='object')"
      ]
     },
     "execution_count": 18,
     "metadata": {},
     "output_type": "execute_result"
    }
   ],
   "source": [
    "Data.keys()"
   ]
  },
  {
   "cell_type": "code",
   "execution_count": 19,
   "id": "cfaba469-8eee-4877-81ca-c7c174b13c17",
   "metadata": {},
   "outputs": [
    {
     "data": {
      "text/plain": [
       "0    270.682220\n",
       "1     58.450504\n",
       "2     44.494267\n",
       "3     35.032440\n",
       "4     49.555641\n",
       "5     47.303871\n",
       "6     42.269562\n",
       "Name: pT_{#mu}(GeV), dtype: float64"
      ]
     },
     "execution_count": 19,
     "metadata": {},
     "output_type": "execute_result"
    }
   ],
   "source": [
    "Data['pT_{#mu}(GeV)']"
   ]
  },
  {
   "cell_type": "markdown",
   "id": "6075ebf9-62b7-40a5-9d8a-b73dbd3b8c12",
   "metadata": {},
   "source": [
    "Con esto ya se podrían generar los histogramas usando matplotlib. Sin embargo, existe una función de root_analysis que permite generar todos los histogramas de las columnas de un archivo csv:"
   ]
  },
  {
   "cell_type": "code",
   "execution_count": 20,
   "id": "edf72820-2edc-4605-aa5e-f67da529efbc",
   "metadata": {},
   "outputs": [],
   "source": [
    "histogramas = root_analysis.make_histograms(Data)"
   ]
  },
  {
   "cell_type": "code",
   "execution_count": 21,
   "id": "ba751259-0ce5-478a-adaf-556f6594833f",
   "metadata": {},
   "outputs": [
    {
     "data": {
      "text/plain": [
       "{'pT_{#mu}(GeV)': <cppyy.gbl.TH1F object at 0x55e1b44efa20>,\n",
       " '#eta_{#mu}': <cppyy.gbl.TH1F object at 0x55e1a90594b0>,\n",
       " '#phi_{#mu}': <cppyy.gbl.TH1F object at 0x55e1a8f60880>,\n",
       " 'Energy_{#mu}(GeV)': <cppyy.gbl.TH1F object at 0x55e1a8f43010>,\n",
       " 'Mass_{#mu}(GeV)': <cppyy.gbl.TH1F object at 0x55e1a6fa99f0>}"
      ]
     },
     "execution_count": 21,
     "metadata": {},
     "output_type": "execute_result"
    }
   ],
   "source": [
    "histogramas"
   ]
  },
  {
   "cell_type": "markdown",
   "id": "f4d3da2f-4171-42fa-9204-3b550ba5c542",
   "metadata": {},
   "source": [
    "Así, histogramas es un diccionario histogramas de root (TH1F)"
   ]
  },
  {
   "cell_type": "markdown",
   "id": "25d56072-5d6d-41ce-a272-21d00d73513e",
   "metadata": {},
   "source": [
    "**7.** Graficar histogramas"
   ]
  },
  {
   "cell_type": "code",
   "execution_count": 22,
   "id": "8fa55a64-4dab-4335-85ff-feb7a3827393",
   "metadata": {},
   "outputs": [],
   "source": [
    "from ROOT import TCanvas #Permite mostrar graficas\n",
    "from ROOT import TH1F #Permite graficar los histogramas en un TCanvas"
   ]
  },
  {
   "cell_type": "code",
   "execution_count": 23,
   "id": "19084757-2b98-47e6-8e46-64023b26fc7f",
   "metadata": {},
   "outputs": [],
   "source": [
    "canvas = TCanvas(\"Canvas\", \" \", 600, 400)"
   ]
  },
  {
   "cell_type": "code",
   "execution_count": 24,
   "id": "3ec2c9eb-48ab-4f6b-8ace-c84ec85b34bc",
   "metadata": {},
   "outputs": [
    {
     "data": {
      "image/png": "[encoded data removed]",
      "text/plain": [
       "<IPython.core.display.Image object>"
      ]
     },
     "metadata": {},
     "output_type": "display_data"
    }
   ],
   "source": [
    "histogramas['pT_{#mu}(GeV)'].Draw('hist')\n",
    "canvas.Draw()"
   ]
  },
  {
   "cell_type": "markdown",
   "id": "c1affba8-1678-4872-bcb1-9189c58f44dd",
   "metadata": {},
   "source": [
    "**Notas:** \n",
    "\n",
    "Existen otras funciones, este es un tutorial muy resumido sobre el uso del Framework para leer un archivo.root y graficar histogramas. \n",
    "\n",
    "Para aprender a usar las otras funciones del Framework se recomienda ver: https://github.com/Phenomenology-group-uniandes/Uniandes_Framework/tree/main/Tutorials\n",
    "\n",
    "Dependiendo la persona que este escribiendo el código esto se puede complificar tanto como se quiera."
   ]
  }
 ],
 "metadata": {
  "kernelspec": {
   "display_name": "Python 3 (ipykernel)",
   "language": "python",
   "name": "python3"
  },
  "language_info": {
   "codemirror_mode": {
    "name": "ipython",
    "version": 3
   },
   "file_extension": ".py",
   "mimetype": "text/x-python",
   "name": "python",
   "nbconvert_exporter": "python",
   "pygments_lexer": "ipython3",
   "version": "3.9.4"
  }
 },
 "nbformat": 4,
 "nbformat_minor": 5
}
