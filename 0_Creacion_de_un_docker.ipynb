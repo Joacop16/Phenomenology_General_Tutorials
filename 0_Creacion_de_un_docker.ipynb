{
 "cells": [
  {
   "attachments": {},
   "cell_type": "markdown",
   "id": "a050d64d",
   "metadata": {},
   "source": [
    "# Creación de un Docker\n",
    "by [Cristian Rodríguez](https://github.com/cfrc2694)\n",
    "\n",
    "En el enfoque actual, se tienen dos tipos de usuarios:\n",
    "\n",
    " - El administrador del docker es el encargado de crea paracada usuario final, un contenedor basado en la imagen preparada por el profesor Joel Jones de la PUCP, https://hub.docker.com/r/jjonesperez/pucp-madgraph-pythia-delphes, ya instalada en su versión 0.7 en el hep-server2, y modificada en la imagen local `pheno_collider_tools` para incluir un servidor de jupyterlab. **CUIDADO: el administrador del docker tiene permisos sobre la totalidad del sistema de ficheros de hep-server2, por lo tanto debe cuidar de no heredar los permisos a cada usuario final, esto se aclara más adelante.**\n",
    "\n",
    " - El usuario final es el encargado de conectar a su contenedor via ssh donde un servidor jupyter-lab estará corriendo, y podrá ejecutar los notebooks que se encuentren en su directorio de trabajo. En caso de requerirlo, el usuario deberá preguntar al administrador del docker para reiniciar el contenedor.\n"
   ]
  },
  {
   "attachments": {},
   "cell_type": "markdown",
   "id": "63303ab9-c087-4366-924c-5751e64d334f",
   "metadata": {},
   "source": [
    "## Conexión ssh al servidor de fenomenología: hep-server2\n",
    "Desde una terminal bash, powershell o cmd, se debe ejecutar el siguiente comando, donde se reemplaza `docker_admin_name` el nombre del administrador del docker\n",
    "\n",
    "```bash\n",
    "ssh -Y docker_admin_name@hep-server2.uniandes.edu.co \n",
    "```"
   ]
  },
  {
   "attachments": {},
   "cell_type": "markdown",
   "id": "856a9ebc",
   "metadata": {},
   "source": [
    "## Puertos en uso\n",
    "Cada usuario final se conectará a su contenedor vía un *port-forwarding*, para cada usuario nuevo se debe tener en cuenta que cada contenedor debe tener un puerto diferente, por lo tanto se debe tener un registro de los puertos empleados.\n",
    "\n",
    "Los siguientes puertos están reservados para el sistema:\n",
    "- 22: puerto de conexión ssh al servidor hep-server2 (expuesto a internet)\n",
    "- 2222: puerto de conexión ssh al servidor hep-server2 (expuesto a la red interna de la universidad)\n",
    "- 80: puerto de conexión http al servidor hep-server2 (expuesto a la red interna de la universidad)\n",
    "- 443: puerto de conexión https al servidor hep-server2 (expuesto a la red interna de la universidad)\n",
    "\n",
    "Para consultar los puertos en uso se debe ejecutar el siguiente comando en el servidor hep-server2:"
   ]
  },
  {
   "cell_type": "code",
   "execution_count": 1,
   "id": "7d43088f-a260-427d-bd41-2925bf1438d5",
   "metadata": {
    "tags": [],
    "vscode": {
     "languageId": "shellscript"
    }
   },
   "outputs": [
    {
     "name": "stdout",
     "output_type": "stream",
     "text": [
      "CONTAINER ID   IMAGE                         COMMAND       CREATED      STATUS      PORTS                                                 NAMES\n",
      "8091c1c13691   pheno_collider_tools:latest   \"/bin/bash\"   8 days ago   Up 8 days   0.0.0.0:1401->1401/tcp, :::1401->1401/tcp, 2694/tcp   jupyroot_gardila\n",
      "cfffc1d7e28a   pheno_collider_tools:latest   \"/bin/bash\"   8 days ago   Up 8 days   2694/tcp, 0.0.0.0:4950->4950/tcp, :::4950->4950/tcp   jupyroot_j.penuela\n",
      "b4ec71afccca   pheno_collider_tools:latest   \"/bin/bash\"   8 days ago   Up 8 days   0.0.0.0:2694->2694/tcp, :::2694->2694/tcp             jupyroot_c.rodriguez45\n",
      "\n"
     ]
    }
   ],
   "source": [
    "docker ps"
   ]
  },
  {
   "attachments": {},
   "cell_type": "markdown",
   "id": "daf7463b",
   "metadata": {},
   "source": [
    "Note que en este ejemplo, los puertos 1401, 2502, y 4950 están en uso. "
   ]
  },
  {
   "attachments": {},
   "cell_type": "markdown",
   "id": "1480e271",
   "metadata": {},
   "source": [
    "Al usuario nuevo por (ejemplo `c.rodriguez45`) se le asignará un puerto, preferíblemente de 4 dígitos (por ejemplo `1234`), y se le asignará un directorio de trabajo en el `/disco4/personal_folders`, por favor guardar en las siguientes variables el puerto y el nombre de usuario final:"
   ]
  },
  {
   "cell_type": "code",
   "execution_count": 2,
   "id": "afee0b78",
   "metadata": {
    "vscode": {
     "languageId": "shellscript"
    }
   },
   "outputs": [
    {
     "name": "stdout",
     "output_type": "stream",
     "text": [
      "\n"
     ]
    }
   ],
   "source": [
    "# declare variables port, user_name, and password.\n",
    "port=1234\n",
    "user_name=c.rodriguez45\n",
    "password=random-pass-here"
   ]
  },
  {
   "attachments": {},
   "cell_type": "markdown",
   "id": "2b3e3289",
   "metadata": {},
   "source": [
    "Verifica que la información es correcta:"
   ]
  },
  {
   "cell_type": "code",
   "execution_count": 3,
   "id": "4ebf488d",
   "metadata": {
    "vscode": {
     "languageId": "shellscript"
    }
   },
   "outputs": [
    {
     "name": "stdout",
     "output_type": "stream",
     "text": [
      "Al usuario c.rodriguez45\n",
      "se le asigna el puerto 1234\n",
      "en la carpeta /disco4/personal_folders/c.rodriguez45\n",
      "\n"
     ]
    }
   ],
   "source": [
    "personal_folder=/disco4/personal_folders/$user_name\n",
    "echo \"Al usuario $user_name\"\n",
    "echo \"se le asigna el puerto $port\"\n",
    "echo \"en la carpeta $personal_folder\""
   ]
  },
  {
   "attachments": {},
   "cell_type": "markdown",
   "id": "3aa46e50",
   "metadata": {},
   "source": [
    "## Creación de un contenedor para un usuario final\n",
    "\n",
    "En el servidor hep-server2, se tienen instalados 4 discos de alta capacidad `/disco1`, `/disco2`, `/disco3`, y `/disco4` destinados a almacenar las simulaciones, el disco 4 tiene destinado un espacio para los archivos de prueba, notebooks y demás que puedan ser compartidos entre los usuarios. El acceso a estos discos será de sólo lectura para los usuarios finales.\n",
    "\n",
    "Los usuarios finales tendrán un directorio de trabajo en el disco 4, en la ruta `/disco4/personal_folders/usuario_final`, donde `usuario_final` es el nombre del usuario final. La carpeta personal de cada usuario final específico, estará montada en el contenedor respectivo en la ruta `/home`. Donde a su vez estará montado el servidor de jupyter-lab.\n",
    "\n",
    "bajo los dos siguientes comandos se crea la carpeta del usuario final y se crea el contenedor de docker donde se evidencia los permisos de sólo lectura sobre los discos para el usuario final, se asigna el puerto especificado en la variable `port`, y se monta el directorio de trabajo del usuario final en el contenedor en la ruta `/home`. \n"
   ]
  },
  {
   "attachments": {},
   "cell_type": "markdown",
   "id": "f96d4183",
   "metadata": {},
   "source": [
    "```bash\n",
    "mkdir -p $personal_folder\n",
    "docker run -it -t \\\n",
    "    --mount type=bind,source=/disco1,target=/disco1,readonly \\\n",
    "    --mount type=bind,source=/disco2,target=/disco2,readonly \\\n",
    "    --mount type=bind,source=/disco3,target=/disco3,readonly \\\n",
    "    --mount type=bind,source=/disco4,target=/disco4 \\\n",
    "    --mount type=bind,source=/Madgraph_Simulations,target=/Madgraph_Simulations,readonly \\\n",
    "    --mount type=bind,source=$personal_folder,target=/home/pheno \\\n",
    "    --device /dev/fuse -d -p $port:$port \\\n",
    "    --name jupyroot_$user_name \\\n",
    "    pheno_collider_tools:latest;\n",
    "```\t"
   ]
  },
  {
   "attachments": {},
   "cell_type": "markdown",
   "id": "80ba6fba",
   "metadata": {},
   "source": [
    "Puedes consultar que efectivamente se crea el contenedor, en el puerto adecuado:"
   ]
  },
  {
   "cell_type": "code",
   "execution_count": 1,
   "id": "c645b11b",
   "metadata": {
    "vscode": {
     "languageId": "shellscript"
    }
   },
   "outputs": [
    {
     "name": "stdout",
     "output_type": "stream",
     "text": [
      "CONTAINER ID   IMAGE                         COMMAND       CREATED        STATUS        PORTS                                                 NAMES\n",
      "8091c1c13691   pheno_collider_tools:latest   \"/bin/bash\"   12 hours ago   Up 12 hours   0.0.0.0:1401->1401/tcp, :::1401->1401/tcp, 2694/tcp   jupyroot_gardila\n",
      "cfffc1d7e28a   pheno_collider_tools:latest   \"/bin/bash\"   12 hours ago   Up 12 hours   2694/tcp, 0.0.0.0:4950->4950/tcp, :::4950->4950/tcp   jupyroot_j.penuela\n",
      "b4ec71afccca   pheno_collider_tools:latest   \"/bin/bash\"   12 hours ago   Up 12 hours   0.0.0.0:2694->2694/tcp, :::2694->2694/tcp             jupyroot_c.rodriguez45\n",
      "\n"
     ]
    }
   ],
   "source": [
    "docker ps -a"
   ]
  },
  {
   "attachments": {},
   "cell_type": "markdown",
   "id": "d1055950",
   "metadata": {},
   "source": [
    "Ya casi está todo listo, ahora se debe configurar el contenedor para que el usuario final pueda conectarse vía ssh, y pueda ejecutar el servidor de jupyter-lab:"
   ]
  },
  {
   "cell_type": "code",
   "execution_count": 5,
   "id": "fea6c9cc",
   "metadata": {
    "vscode": {
     "languageId": "shellscript"
    }
   },
   "outputs": [
    {
     "name": "stdout",
     "output_type": "stream",
     "text": [
      "jupyroot_c.rodriguez45\n",
      "\n"
     ]
    }
   ],
   "source": [
    "# Primero iniciamos el contenedor\n",
    "docker start jupyroot_$user_name"
   ]
  },
  {
   "attachments": {},
   "cell_type": "markdown",
   "id": "e64bd5d7",
   "metadata": {},
   "source": [
    "La siguiente serie de comandos añade las siguientes funciones al bash del contendor para resolver los problemas de permisos\n",
    "\n",
    "- `print_ids` imprime los ids del usuario final.\n",
    "- `get_userid` obtiene el id del usuario final.\n",
    "- `get_groupid` obtiene el id del grupo del usuario final.\n",
    "- `change_permissions` cambia los permisos de los archivos y carpetas del usuario final para que pueda escribir en su directorio de trabajo, cuando no se conecta al contenedor sino que se conecta al servidor hep-server2.\n",
    "\n",
    "Adicionalmente se ejecuta el servidor de jupyter-lab en el puerto asignado al usuario final. La contraseña por defecto es el nombre del usuario final, por ejemplo `c.rodriguez45`. Se le recomienda al usuario final cambiar la contraseña por defecto.\n",
    "\n",
    "```bash\n",
    "# Añade una función que imprima el userid y el groupid del usuario\n",
    "userid=$(id -u $user_name)\n",
    "groupid=$(id -g $user_name)\n",
    "# En el servidor hay un usuario llamado pheno con ID 1000, se debe cambiar el ID de pheno al ID del usuario final, para que el usuario final pueda escribir en su directorio de trabajo\n",
    "docker exec -it jupyroot_$user_name chown -R $userid:$groupid /home/pheno \n",
    "# cambia el id del usuario en /etc/passwd\n",
    "docker exec -it jupyroot_$user_name sed -i 's/1000/'$userid'/g' /etc/passwd\n",
    "# cambia el id del grupo en /etc/group\n",
    "docker exec -it jupyroot_$user_name sed -i 's/1000/'$groupid'/g' /etc/group\n",
    "# add user to wheel group\n",
    "docker exec -it jupyroot_$user_name usermod -aG wheel pheno\n",
    "# cambia la contraseña del pheno\n",
    "docker exec -it jupyroot_$user_name bash -c \"echo pheno:$password | chpasswd\"\n",
    "# cambia el id del grupo en /etc/shadow\n",
    "docker exec -it jupyroot_$user_name sed -i 's/1000/'$groupid'/g' /etc/shadow\n",
    "# extrae /home/pheno.tar.gz \n",
    "docker exec -u $userid -it jupyroot_$user_name bash -c 'cd / ; tar -xvf /home/pheno.tar.gz'\n",
    "# add source /Collider/ROOT/installROOT/bin/thisroot.sh to /etc/bashrc\n",
    "docker exec -it jupyroot_$user_name bash -c 'echo \"source /Collider/ROOT/installROOT/bin/thisroot.sh\" >> /etc/bashrc'\n",
    "# add a file jupyter_run.sh (delete it if exists) to /home/pheno to execute at the start of the container with the user pheno\n",
    "docker exec -u $userid -it jupyroot_$user_name bash -c 'echo \"export PS1=\\\"\\[\\e[32m\\][\\u:\\[\\e[34m\\]\\w\\[\\e[32m\\]]\\$\\[\\e[0m\\] \\\"; cd ~ ; source /Collider/env/bin/activate; jupyter-lab --ip 0.0.0.0 --port '$port' --no-browser --ServerApp.token='$password'\" > /home/pheno/jupyter_run.sh'\n",
    "# configure container to run jupyter_run.sh as user pheno at the start of the container\n",
    "docker exec -it jupyroot_$user_name bash -c \"echo 'su pheno -c \\\"bash /home/pheno/jupyter_run.sh\\\"' >> /root/.bashrc\"\n",
    "# dar permisos de ejecución a jupyter_run.sh\n",
    "docker exec -it jupyroot_$user_name bash -c 'chmod +x /home/pheno/jupyter_run.sh'\n",
    "# reiniciar el contenedor\n",
    "docker restart jupyroot_$user_name\n",
    "```"
   ]
  },
  {
   "attachments": {},
   "cell_type": "markdown",
   "id": "9708ad64",
   "metadata": {},
   "source": [
    "Y Listo! el usuario final puede conectarse al servidor de jupyter-lab en el puerto asignado, y ejecutar los notebooks que se encuentren en su directorio de trabajo.\n"
   ]
  },
  {
   "attachments": {},
   "cell_type": "markdown",
   "id": "8e056a37",
   "metadata": {},
   "source": [
    "## Conexión al servidor de jupyter-lab\n",
    "Para la conexión al servidor de jupyter-lab, se debe ejecutar el siguiente comando en una terminal bash, powershell o cmd en el escritorio del usuario final, donde se reemplaza `user` por el nombre del usuario final, y `port` por el puerto asignado al usuario final:\n",
    "\n",
    "```bash\n",
    "    ssh user@hep-server2.uniandes.edu.co -NL port:localhost:port\n",
    "```\n",
    "donde `user` se podrá conectar a su jupyter-lab en la siguiente dirección: http://localhost:port \n",
    "\n",
    "Por ejemplo, para el usuario `c.rodriguez45` con el puerto `1234` se debe ejecutar el siguiente comando:\n",
    "```bash\n",
    "    ssh c.rodriguez45@hep-server2.uniandes.edu.co -NL 1234:localhost:1234\n",
    "```\n",
    "donde c.rodriguez45 se podrá conectar a su jupyter-lab en la siguiente dirección: http://localhost:1234."
   ]
  },
  {
   "attachments": {},
   "cell_type": "markdown",
   "id": "ea88af36",
   "metadata": {},
   "source": [
    "## Reinicio del contenedor\n",
    "En caso de ser necesario, por ejemplo que el contenedor se quede sin memoria, no responda, o se caiga el servidor de jupyter-lab, el adminsitrador puede reiniciar el contenedor, para ello debe ejecutar el siguiente comando en el servidor hep-server2:\n",
    "```bash\n",
    "   docker restart jupyroot_user\n",
    "```\n",
    "donde `jupyroot_user` es el nombre del contenedor del usuario final."
   ]
  },
  {
   "attachments": {},
   "cell_type": "markdown",
   "id": "15ff503a",
   "metadata": {},
   "source": [
    "## Eliminar el contenedor de un usuario final\n",
    "\n",
    "En caso de que el usuario final no vaya a usar más el contenedor, que ocurra un daño critico en el contenedor, o que el usuario final haya olvidado su contraseña, se debe eliminar el contenedor y crear uno nuevo. Para ello se debe ejecutar el siguiente comando en el servidor hep-server2:\n",
    "\n",
    "```bash\n",
    "   docker rm -f jupyroot_user\n",
    "```\n",
    "donde `jupyroot_user` es el nombre del contenedor del usuario final."
   ]
  }
 ],
 "metadata": {
  "kernelspec": {
   "display_name": "Calysto Bash",
   "language": "bash",
   "name": "calysto_bash"
  },
  "language_info": {
   "file_extension": ".sh",
   "help_links": [
    {
     "text": "MetaKernel Magics",
     "url": "https://metakernel.readthedocs.io/en/latest/source/README.html"
    }
   ],
   "mimetype": "text/x-sh",
   "name": "bash",
   "version": "0.2.2"
  }
 },
 "nbformat": 4,
 "nbformat_minor": 5
}
